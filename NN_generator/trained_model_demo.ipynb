{
 "cells": [
  {
   "cell_type": "markdown",
   "metadata": {},
   "source": [
    "# Trained Variable Size Flow Matching Model Demo\n",
    "\n",
    "This notebook demonstrates loading and using the trained Variable Size Flow Matching model with interactive visualization."
   ]
  },
  {
   "cell_type": "code",
   "execution_count": 1,
   "metadata": {},
   "outputs": [
    {
     "name": "stdout",
     "output_type": "stream",
     "text": [
      "Libraries imported successfully!\n"
     ]
    }
   ],
   "source": [
    "# Import required libraries\n",
    "import numpy as np\n",
    "import torch\n",
    "import matplotlib.pyplot as plt\n",
    "import sys\n",
    "import time\n",
    "import os\n",
    "\n",
    "# Add current directory to path\n",
    "sys.path.append('.')\n",
    "\n",
    "from modules import run_complete_pipeline\n",
    "from hierarchical_pipeline import run_hierarchical_generation\n",
    "from flow_matching_variable_size import VariableSizeFlowMatchingModel, sample_from_variable_size_flow_matching\n",
    "\n",
    "print(\"Libraries imported successfully!\")"
   ]
  },
  {
   "cell_type": "markdown",
   "metadata": {},
   "source": [
    "## Load the Trained Model"
   ]
  },
  {
   "cell_type": "code",
   "execution_count": 2,
   "metadata": {},
   "outputs": [
    {
     "name": "stdout",
     "output_type": "stream",
     "text": [
      "Loading trained model...\n",
      "Model loaded successfully!\n"
     ]
    }
   ],
   "source": [
    "def load_trained_model():\n",
    "    \"\"\"Load the trained Variable Size Flow Matching model.\"\"\"\n",
    "    print(\"Loading trained model...\")\n",
    "    model = VariableSizeFlowMatchingModel(max_size=150, hidden_dims=[512, 1024, 1024, 512])\n",
    "    \n",
    "    # Try to load the existing model file\n",
    "    model_path = 'heterogeneous_flow_matching_model.pth'\n",
    "    if not os.path.exists(model_path):\n",
    "        print(f\"Model file {model_path} not found. Please run the training first:\")\n",
    "        print(\"python flow_matching_heterogeneous_demo.py\")\n",
    "        raise FileNotFoundError(f\"Model file not found: {model_path}\")\n",
    "    \n",
    "    state_dict = torch.load(model_path, map_location='cpu')\n",
    "    filtered_state_dict = {k: v for k, v in state_dict.items() if not k.startswith('output_projection.')}\n",
    "    model.load_state_dict(filtered_state_dict, strict=False)\n",
    "    model.eval()\n",
    "    print(\"Model loaded successfully!\")\n",
    "    return model\n",
    "\n",
    "# Load the model\n",
    "model = load_trained_model()"
   ]
  },
  {
   "cell_type": "markdown",
   "metadata": {},
   "source": [
    "## Generate Test Data"
   ]
  },
  {
   "cell_type": "code",
   "execution_count": 3,
   "metadata": {},
   "outputs": [
    {
     "name": "stdout",
     "output_type": "stream",
     "text": [
      "Generating test data...\n",
      "Step 1: U shape (15, 5), V shape (20, 5)\n",
      "Step 2: X shape (15, 20)\n",
      "Step 3: Probability matrix shape (15, 20)\n",
      "Generated 3 masking matrices, each shape: (15, 20)\n",
      "Data matrix shape: (45, 80)\n",
      "Mask matrix shape: (45, 80)\n"
     ]
    }
   ],
   "source": [
    "def generate_test_data():\n",
    "    \"\"\"Generate test data using the pipeline.\"\"\"\n",
    "    print(\"Generating test data...\")\n",
    "    U, V, X, masks, prob_matrix = run_complete_pipeline(\n",
    "        N=15, T=20, d=5, L_X=2, L_mask=3, num_masks=3,\n",
    "        latent_seed=42, data_seed=43, mask_seed=44\n",
    "    )\n",
    "    \n",
    "    # Create hierarchical data\n",
    "    J, K = 3, 4\n",
    "    data_matrices_jk = np.zeros((J, K, 15, 20))\n",
    "    masking_matrices_jk = np.zeros((J, K, 15, 20))\n",
    "    \n",
    "    for j in range(J):\n",
    "        for k in range(K):\n",
    "            data_matrices_jk[j, k] = X\n",
    "            mask_idx = (j * K + k) % len(masks)\n",
    "            masking_matrices_jk[j, k] = masks[mask_idx]\n",
    "    \n",
    "    # Generate big matrix\n",
    "    big_data_matrix, big_mask_matrices, P_M, sampled_pairs = run_hierarchical_generation(\n",
    "        data_matrices_jk, masking_matrices_jk,\n",
    "        B=6, data_L=2, mask_L=2, num_big_masks=1,\n",
    "        data_seed=45, mask_seed=46, pair_seed=47\n",
    "    )\n",
    "    \n",
    "    print(f\"Data matrix shape: {big_data_matrix.shape}\")\n",
    "    print(f\"Mask matrix shape: {big_mask_matrices[0].shape}\")\n",
    "    return big_data_matrix, big_mask_matrices[0]\n",
    "\n",
    "# Generate test data\n",
    "data_matrix, original_mask = generate_test_data()\n",
    "\n",
    "\n",
    "\n"
   ]
  },
  {
   "cell_type": "markdown",
   "metadata": {},
   "source": [
    "## Generate Mask Using the Model"
   ]
  },
  {
   "cell_type": "code",
   "execution_count": 4,
   "metadata": {},
   "outputs": [
    {
     "name": "stdout",
     "output_type": "stream",
     "text": [
      "Generating mask using model...\n",
      "Generation time: 0.276s\n",
      "Generated mask shape: (45, 80)\n",
      "Mask values range: [-1.307, 1.131]\n"
     ]
    }
   ],
   "source": [
    "def generate_mask_from_model(model, data_matrix):\n",
    "    \"\"\"Generate mask using the trained model.\"\"\"\n",
    "    print(\"Generating mask using model...\")\n",
    "    start_time = time.time()\n",
    "    \n",
    "    test_data = torch.FloatTensor(data_matrix.flatten()).unsqueeze(0)\n",
    "    generated_mask = sample_from_variable_size_flow_matching(model, test_data, num_steps=100)\n",
    "    generated_mask = generated_mask.squeeze(0).detach().numpy().reshape(data_matrix.shape)\n",
    "    \n",
    "    generation_time = time.time() - start_time\n",
    "    print(f\"Generation time: {generation_time:.3f}s\")\n",
    "    print(f\"Generated mask shape: {generated_mask.shape}\")\n",
    "    print(f\"Mask values range: [{generated_mask.min():.3f}, {generated_mask.max():.3f}]\")\n",
    "    \n",
    "    return generated_mask\n",
    "\n",
    "# Generate mask using the model\n",
    "generated_mask = generate_mask_from_model(model, data_matrix)\n",
    "\n",
    "\n"
   ]
  },
  {
   "cell_type": "markdown",
   "metadata": {},
   "source": [
    "## Calculate Performance Metrics"
   ]
  },
  {
   "cell_type": "code",
   "execution_count": 5,
   "metadata": {},
   "outputs": [
    {
     "name": "stdout",
     "output_type": "stream",
     "text": [
      "Performance Metrics:\n",
      "MAE: 0.4902\n",
      "MSE: 0.4218\n",
      "Binary Accuracy: 0.6594\n",
      "Correlation: -0.0063\n"
     ]
    }
   ],
   "source": [
    "def calculate_metrics(original_mask, generated_mask):\n",
    "    \"\"\"Calculate performance metrics.\"\"\"\n",
    "    orig_flat = original_mask.flatten()\n",
    "    gen_flat = generated_mask.flatten()\n",
    "    \n",
    "    mae = np.mean(np.abs(gen_flat - orig_flat))\n",
    "    mse = np.mean((gen_flat - orig_flat) ** 2)\n",
    "    binary_orig = (orig_flat > 0.5).astype(float)\n",
    "    binary_gen = (gen_flat > 0.5).astype(float)\n",
    "    accuracy = np.mean(binary_orig == binary_gen)\n",
    "    correlation = np.corrcoef(orig_flat, gen_flat)[0, 1]\n",
    "    \n",
    "    return {\n",
    "        'mae': mae,\n",
    "        'mse': mse,\n",
    "        'accuracy': accuracy,\n",
    "        'correlation': correlation\n",
    "    }\n",
    "\n",
    "# Calculate metrics\n",
    "metrics = calculate_metrics(original_mask, generated_mask)\n",
    "\n",
    "print(\"Performance Metrics:\")\n",
    "print(f\"MAE: {metrics['mae']:.4f}\")\n",
    "print(f\"MSE: {metrics['mse']:.4f}\")\n",
    "print(f\"Binary Accuracy: {metrics['accuracy']:.4f}\")\n",
    "print(f\"Correlation: {metrics['correlation']:.4f}\")"
   ]
  },
  {
   "cell_type": "markdown",
   "metadata": {},
   "source": [
    "## Visualize Results"
   ]
  },
  {
   "cell_type": "code",
   "execution_count": 6,
   "metadata": {},
   "outputs": [
    {
     "data": {
      "image/png": "[encoded data removed]",
      "text/plain": [
       "<Figure size 1500x500 with 3 Axes>"
      ]
     },
     "metadata": {},
     "output_type": "display_data"
    },
    {
     "name": "stdout",
     "output_type": "stream",
     "text": [
      "\n",
      "Demo completed! Results saved as 'model_demo_results.png'\n"
     ]
    }
   ],
   "source": [
    "def visualize_results(data_matrix, original_mask, generated_mask):\n",
    "    \"\"\"Visualize the results.\"\"\"\n",
    "    fig, axes = plt.subplots(1, 3, figsize=(15, 5))\n",
    "    \n",
    "    axes[0].imshow(data_matrix, cmap='viridis')\n",
    "    axes[0].set_title('Input Data Matrix')\n",
    "    axes[0].axis('off')\n",
    "    \n",
    "    axes[1].imshow(original_mask, cmap='gray')\n",
    "    axes[1].set_title('Original Mask')\n",
    "    axes[1].axis('off')\n",
    "    \n",
    "    axes[2].imshow(generated_mask, cmap='gray')\n",
    "    axes[2].set_title('Generated Mask')\n",
    "    axes[2].axis('off')\n",
    "    \n",
    "    plt.tight_layout()\n",
    "    plt.savefig('model_demo_results.png', dpi=150, bbox_inches='tight')\n",
    "    plt.show()\n",
    "\n",
    "# Visualize results\n",
    "visualize_results(data_matrix, original_mask, generated_mask)\n",
    "\n",
    "print(\"\\nDemo completed! Results saved as 'model_demo_results.png'\")"
   ]
  },
  {
   "cell_type": "markdown",
   "metadata": {},
   "source": [
    "## Interactive Analysis (Optional)\n",
    "\n",
    "You can now interactively explore the results by examining the data matrices and masks."
   ]
  },
  {
   "cell_type": "code",
   "execution_count": null,
   "metadata": {},
   "outputs": [],
   "source": [
    "# Interactive exploration\n",
    "print(\"Data matrix statistics:\")\n",
    "print(f\"Shape: {data_matrix.shape}\")\n",
    "print(f\"Min: {data_matrix.min():.3f}\")\n",
    "print(f\"Max: {data_matrix.max():.3f}\")\n",
    "print(f\"Mean: {data_matrix.mean():.3f}\")\n",
    "print(f\"Std: {data_matrix.std():.3f}\")\n",
    "\n",
    "print(\"\\nOriginal mask statistics:\")\n",
    "print(f\"Shape: {original_mask.shape}\")\n",
    "print(f\"Min: {original_mask.min():.3f}\")\n",
    "print(f\"Max: {original_mask.max():.3f}\")\n",
    "print(f\"Mean: {original_mask.mean():.3f}\")\n",
    "print(f\"Binary ratio: {(original_mask > 0.5).sum() / original_mask.size:.3f}\")\n",
    "\n",
    "print(\"\\nGenerated mask statistics:\")\n",
    "print(f\"Shape: {generated_mask.shape}\")\n",
    "print(f\"Min: {generated_mask.min():.3f}\")\n",
    "print(f\"Max: {generated_mask.max():.3f}\")\n",
    "print(f\"Mean: {generated_mask.mean():.3f}\")\n",
    "print(f\"Binary ratio: {(generated_mask > 0.5).sum() / generated_mask.size:.3f}\")"
   ]
  }
 ],
 "metadata": {
  "kernelspec": {
   "display_name": "Python 3",
   "language": "python",
   "name": "python3"
  },
  "language_info": {
   "codemirror_mode": {
    "name": "ipython",
    "version": 3
   },
   "file_extension": ".py",
   "mimetype": "text/x-python",
   "name": "python",
   "nbconvert_exporter": "python",
   "pygments_lexer": "ipython3",
   "version": "3.10.4"
  }
 },
 "nbformat": 4,
 "nbformat_minor": 4
}
