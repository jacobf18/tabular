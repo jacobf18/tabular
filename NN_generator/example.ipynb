{
 "cells": [
  {
   "cell_type": "code",
   "execution_count": 2,
   "metadata": {},
   "outputs": [],
   "source": [
    "import numpy as np\n",
    "import random\n",
    "from output_layer_generator import NeuralNetworkGenerator\n",
    "from modules import run_complete_pipeline"
   ]
  },
  {
   "cell_type": "code",
   "execution_count": 3,
   "metadata": {},
   "outputs": [
    {
     "name": "stdout",
     "output_type": "stream",
     "text": [
      "Step 1: U shape (15, 5), V shape (15, 5)\n",
      "Step 2: X shape (15, 15)\n",
      "Step 3: Probability matrix shape (15, 15)\n",
      "Generated 5 masking matrices, each shape: (15, 15)\n"
     ]
    }
   ],
   "source": [
    "U, V, X, masks, prob_matrix = run_complete_pipeline(N=15, T=15, d=5, L_X=3, L_mask=3, num_masks=5)"
   ]
  }
 ],
 "metadata": {
  "kernelspec": {
   "display_name": "Python 3",
   "language": "python",
   "name": "python3"
  },
  "language_info": {
   "codemirror_mode": {
    "name": "ipython",
    "version": 3
   },
   "file_extension": ".py",
   "mimetype": "text/x-python",
   "name": "python",
   "nbconvert_exporter": "python",
   "pygments_lexer": "ipython3",
   "version": "3.10.4"
  }
 },
 "nbformat": 4,
 "nbformat_minor": 2
}
