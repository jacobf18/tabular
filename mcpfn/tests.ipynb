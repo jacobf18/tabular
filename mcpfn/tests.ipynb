{
 "cells": [
  {
   "cell_type": "code",
   "execution_count": 60,
   "metadata": {},
   "outputs": [
    {
     "name": "stdout",
     "output_type": "stream",
     "text": [
      "torch.Size([4, 2000, 118])\n",
      "tensor([2000., 2000., 2000., 2000.]) tensor([1990., 1990., 1990., 1990.])\n"
     ]
    }
   ],
   "source": [
    "from abc import abstractmethod\n",
    "from tabicl.prior.dataset import SCMPrior\n",
    "from tabicl.prior.prior_config import DEFAULT_FIXED_HP, DEFAULT_SAMPLED_HP\n",
    "\n",
    "import numpy as np\n",
    "from scipy.stats import loguniform\n",
    "import joblib\n",
    "import math\n",
    "\n",
    "import torch\n",
    "import torch.nn.functional as F\n",
    "from torch import Tensor\n",
    "from torch.nested import nested_tensor\n",
    "from torch.utils.data import IterableDataset\n",
    "\n",
    "from typing import Optional, Tuple, Dict, Any, Union\n",
    "\n",
    "from mcpfn.prior.dataset import DummyPrior, MCARPrior\n",
    "    \n",
    "mcar_prior = MCARPrior(num_missing=10, max_features = 20, max_seq_len=100)\n",
    "\n",
    "# X, _, _ = mcar_prior.generate_dataset({\n",
    "#     'prior_type': 'mlp_scm',\n",
    "#     'num_features': 10,\n",
    "#     'num_classes': 2,\n",
    "#     'device': 'cpu',\n",
    "#     'seq_len': 20,\n",
    "#     'train_size': 10,\n",
    "#     'max_features': 20,\n",
    "#     'min_features': 5,\n",
    "#     'max_classes': 10,\n",
    "#     'cat_prob': 1.0,\n",
    "#     'scale_by_max_features': True,\n",
    "#     'multiclass_type': 'rank',\n",
    "#     'multiclass_ordered_prob': 0.2\n",
    "# })\n",
    "\n",
    "X, y, d, seq_lens, train_sizes = mcar_prior.get_batch(batch_size = 4)\n",
    "\n",
    "print(X.shape)\n",
    "print(seq_lens, train_sizes)\n",
    "\n",
    "# import matplotlib.pyplot as plt\n",
    "# import seaborn as sns\n",
    "# sns.heatmap(torch.isnan(X), cbar=False, cmap='Blues')"
   ]
  },
  {
   "cell_type": "code",
   "execution_count": 59,
   "metadata": {},
   "outputs": [
    {
     "ename": "RuntimeError",
     "evalue": "[enforce fail at inline_container.cc:324] . file in archive is not in a subdirectory batch_000000.pt/: batch_000001.pt",
     "output_type": "error",
     "traceback": [
      "\u001b[0;31m---------------------------------------------------------------------------\u001b[0m",
      "\u001b[0;31mRuntimeError\u001b[0m                              Traceback (most recent call last)",
      "Cell \u001b[0;32mIn[59], line 1\u001b[0m\n\u001b[0;32m----> 1\u001b[0m \u001b[43mtorch\u001b[49m\u001b[38;5;241;43m.\u001b[39;49m\u001b[43mload\u001b[49m\u001b[43m(\u001b[49m\u001b[38;5;124;43m'\u001b[39;49m\u001b[38;5;124;43mdata/batch_000000.pt\u001b[39;49m\u001b[38;5;124;43m'\u001b[39;49m\u001b[43m)\u001b[49m\n",
      "File \u001b[0;32m~/tabular/.venv/lib/python3.10/site-packages/torch/serialization.py:1433\u001b[0m, in \u001b[0;36mload\u001b[0;34m(f, map_location, pickle_module, weights_only, mmap, **pickle_load_args)\u001b[0m\n\u001b[1;32m   1431\u001b[0m overall_storage \u001b[38;5;241m=\u001b[39m \u001b[38;5;28;01mNone\u001b[39;00m\n\u001b[1;32m   1432\u001b[0m \u001b[38;5;28;01mwith\u001b[39;00m _open_zipfile_reader(opened_file) \u001b[38;5;28;01mas\u001b[39;00m opened_zipfile:\n\u001b[0;32m-> 1433\u001b[0m     \u001b[38;5;28;01mif\u001b[39;00m \u001b[43m_is_torchscript_zip\u001b[49m\u001b[43m(\u001b[49m\u001b[43mopened_zipfile\u001b[49m\u001b[43m)\u001b[49m:\n\u001b[1;32m   1434\u001b[0m         warnings\u001b[38;5;241m.\u001b[39mwarn(\n\u001b[1;32m   1435\u001b[0m             \u001b[38;5;124m\"\u001b[39m\u001b[38;5;124m'\u001b[39m\u001b[38;5;124mtorch.load\u001b[39m\u001b[38;5;124m'\u001b[39m\u001b[38;5;124m received a zip file that looks like a TorchScript archive\u001b[39m\u001b[38;5;124m\"\u001b[39m\n\u001b[1;32m   1436\u001b[0m             \u001b[38;5;124m\"\u001b[39m\u001b[38;5;124m dispatching to \u001b[39m\u001b[38;5;124m'\u001b[39m\u001b[38;5;124mtorch.jit.load\u001b[39m\u001b[38;5;124m'\u001b[39m\u001b[38;5;124m (call \u001b[39m\u001b[38;5;124m'\u001b[39m\u001b[38;5;124mtorch.jit.load\u001b[39m\u001b[38;5;124m'\u001b[39m\u001b[38;5;124m directly to\u001b[39m\u001b[38;5;124m\"\u001b[39m\n\u001b[1;32m   1437\u001b[0m             \u001b[38;5;124m\"\u001b[39m\u001b[38;5;124m silence this warning)\u001b[39m\u001b[38;5;124m\"\u001b[39m,\n\u001b[1;32m   1438\u001b[0m             \u001b[38;5;167;01mUserWarning\u001b[39;00m,\n\u001b[1;32m   1439\u001b[0m         )\n\u001b[1;32m   1440\u001b[0m         \u001b[38;5;28;01mif\u001b[39;00m weights_only:\n",
      "File \u001b[0;32m~/tabular/.venv/lib/python3.10/site-packages/torch/serialization.py:1975\u001b[0m, in \u001b[0;36m_is_torchscript_zip\u001b[0;34m(zip_file)\u001b[0m\n\u001b[1;32m   1974\u001b[0m \u001b[38;5;28;01mdef\u001b[39;00m\u001b[38;5;250m \u001b[39m\u001b[38;5;21m_is_torchscript_zip\u001b[39m(zip_file):\n\u001b[0;32m-> 1975\u001b[0m     \u001b[38;5;28;01mreturn\u001b[39;00m \u001b[38;5;124m\"\u001b[39m\u001b[38;5;124mconstants.pkl\u001b[39m\u001b[38;5;124m\"\u001b[39m \u001b[38;5;129;01min\u001b[39;00m \u001b[43mzip_file\u001b[49m\u001b[38;5;241;43m.\u001b[39;49m\u001b[43mget_all_records\u001b[49m\u001b[43m(\u001b[49m\u001b[43m)\u001b[49m\n",
      "\u001b[0;31mRuntimeError\u001b[0m: [enforce fail at inline_container.cc:324] . file in archive is not in a subdirectory batch_000000.pt/: batch_000001.pt"
     ]
    }
   ],
   "source": [
    "torch.load('data/batch_000000.pt')"
   ]
  },
  {
   "cell_type": "code",
   "execution_count": 65,
   "metadata": {},
   "outputs": [],
   "source": [
    "from mcpfn.model.bar_distribution import get_bucket_limits, FullSupportBarDistribution\n",
    "\n",
    "borders = torch.load('borders.pt')\n",
    "\n",
    "y = torch.randn(100)\n",
    "\n",
    "mean, std = torch.mean(y), torch.std(y)\n",
    "\n",
    "y_train_std = std.item() + 1e-20\n",
    "y_train_mean = mean.item()\n",
    "\n",
    "y_train = (y - y_train_mean) / y_train_std\n",
    "\n",
    "bardist = FullSupportBarDistribution(borders = borders)\n",
    "normalized_bardist = FullSupportBarDistribution(borders = borders * std + mean)"
   ]
  },
  {
   "cell_type": "code",
   "execution_count": 67,
   "metadata": {},
   "outputs": [
    {
     "data": {
      "text/plain": [
       "tensor([-93.0867, -26.1321, -22.6323,  ...,  23.6954,  27.1553,  86.9426])"
      ]
     },
     "execution_count": 67,
     "metadata": {},
     "output_type": "execute_result"
    }
   ],
   "source": [
    "bardist.borders"
   ]
  },
  {
   "cell_type": "code",
   "execution_count": 72,
   "metadata": {},
   "outputs": [
    {
     "data": {
      "text/plain": [
       "[<matplotlib.lines.Line2D at 0x32c1a00d0>]"
      ]
     },
     "execution_count": 72,
     "metadata": {},
     "output_type": "execute_result"
    },
    {
     "data": {
      "image/png": "[encoded data removed]",
      "text/plain": [
       "<Figure size 640x480 with 1 Axes>"
      ]
     },
     "metadata": {},
     "output_type": "display_data"
    }
   ],
   "source": [
    "import matplotlib.pyplot as plt\n",
    "\n",
    "plt.plot(bardist.borders)\n",
    "plt.plot(normalized_bardist.borders)"
   ]
  },
  {
   "cell_type": "code",
   "execution_count": 81,
   "metadata": {},
   "outputs": [
    {
     "data": {
      "text/plain": [
       "tensor([[ 2.0074e-01, -4.3655e-01,  1.6527e+00,  9.0075e-01, -1.9251e+00,\n",
       "          1.6554e+00,  7.4727e-01,  3.0364e-01,  1.5618e+00, -1.3866e+00,\n",
       "          6.4264e-01,  1.9241e+00,  4.3499e-01, -2.4922e-01, -1.1652e+00,\n",
       "          2.6176e+00,  4.5972e-01,  1.6928e+00,  4.1489e-01, -8.8834e-02,\n",
       "          3.1503e+00,  2.9648e-01, -6.2812e-01,  7.7385e-01,  1.1338e+00,\n",
       "         -1.7390e-01, -1.8383e+00, -1.3864e+00, -9.8848e-02, -1.8397e+00,\n",
       "          3.1838e-01,  7.7940e-02, -3.7375e-03,  6.4821e-01, -6.8565e-01,\n",
       "         -6.4260e-01,  8.1026e-01, -8.2524e-01, -7.0349e-01, -1.9773e-01,\n",
       "         -3.0903e-01, -4.6896e-01, -1.4635e+00, -6.7517e-01,  5.8477e-01,\n",
       "          2.5487e-03,  1.2064e-01,  3.2227e-01,  3.0442e-01, -1.2604e+00,\n",
       "          6.9869e-01, -1.1476e+00,  3.5203e-01, -1.1030e+00,  8.3777e-01,\n",
       "         -6.5952e-01,  9.3750e-01, -8.5054e-01,  3.1865e-01, -2.4822e-01,\n",
       "          9.5897e-01, -3.3900e-01, -1.9574e-01, -7.3835e-01, -7.5363e-01,\n",
       "         -3.8466e-01, -1.9810e-01, -1.0569e+00,  1.0326e+00,  3.2431e-01,\n",
       "         -1.7249e-01,  2.8825e-01,  6.3557e-03, -1.4088e+00, -4.2582e-01,\n",
       "         -2.9546e-01, -2.0281e-01,  7.3162e-01,  2.0683e+00,  3.8655e-01,\n",
       "          8.4636e-01, -7.0238e-02, -1.7275e+00, -9.5226e-01, -1.0154e+00,\n",
       "         -7.5316e-01,  1.1055e+00, -4.8324e-01,  2.8650e-01, -6.6275e-01,\n",
       "          1.0770e+00,  1.9387e+00, -8.3097e-01, -4.1337e-01, -5.9802e-01,\n",
       "         -8.3504e-01,  5.8957e-01, -1.2685e+00, -1.4661e+00,  1.1715e+00]])"
      ]
     },
     "execution_count": 81,
     "metadata": {},
     "output_type": "execute_result"
    }
   ],
   "source": [
    "y_train.unsqueeze(0)"
   ]
  },
  {
   "cell_type": "code",
   "execution_count": 86,
   "metadata": {},
   "outputs": [
    {
     "data": {
      "text/plain": [
       "tensor([[[-0.3276, -1.8657, -0.8742,  ..., -0.3727,  0.7198,  0.0544]],\n",
       "\n",
       "        [[-0.8182,  0.7961,  1.1734,  ..., -1.0454, -2.2515,  2.0311]],\n",
       "\n",
       "        [[ 1.7532, -0.2757, -0.3792,  ...,  0.4926, -2.6405, -1.3726]],\n",
       "\n",
       "        ...,\n",
       "\n",
       "        [[ 0.2543,  1.9337, -0.3983,  ..., -0.4395,  1.2559, -0.6965]],\n",
       "\n",
       "        [[-1.0539, -0.8043,  1.5859,  ..., -0.8948, -1.1148,  0.2900]],\n",
       "\n",
       "        [[ 0.4916, -0.7614, -0.0715,  ...,  1.2553, -1.1526,  0.1139]]])"
      ]
     },
     "execution_count": 86,
     "metadata": {},
     "output_type": "execute_result"
    }
   ],
   "source": [
    "logits.unsqueeze(0).permute(1,0,2)"
   ]
  },
  {
   "cell_type": "code",
   "execution_count": 102,
   "metadata": {},
   "outputs": [
    {
     "name": "stdout",
     "output_type": "stream",
     "text": [
      "tensor([-93.0867, -26.1321, -22.6323,  ...,  23.6954,  27.1553,  86.9426])\n"
     ]
    },
    {
     "data": {
      "text/plain": [
       "PerFeatureTransformer(\n",
       "  (encoder): SequentialEncoder(\n",
       "    (0): RemoveEmptyFeaturesEncoderStep()\n",
       "    (1): NanHandlingEncoderStep()\n",
       "    (2): VariableNumFeaturesEncoderStep()\n",
       "    (3): InputNormalizationEncoderStep()\n",
       "    (4): VariableNumFeaturesEncoderStep()\n",
       "    (5): LinearInputEncoderStep(\n",
       "      (layer): Linear(in_features=4, out_features=192, bias=False)\n",
       "    )\n",
       "  )\n",
       "  (y_encoder): SequentialEncoder(\n",
       "    (0): NanHandlingEncoderStep()\n",
       "    (1): LinearInputEncoderStep(\n",
       "      (layer): Linear(in_features=2, out_features=192, bias=True)\n",
       "    )\n",
       "  )\n",
       "  (transformer_encoder): LayerStack(\n",
       "    (layers): ModuleList(\n",
       "      (0-11): 12 x PerFeatureEncoderLayer(\n",
       "        (self_attn_between_features): MultiHeadAttention()\n",
       "        (self_attn_between_items): MultiHeadAttention()\n",
       "        (mlp): MLP(\n",
       "          (linear1): Linear(in_features=192, out_features=768, bias=False)\n",
       "          (linear2): Linear(in_features=768, out_features=192, bias=False)\n",
       "        )\n",
       "        (layer_norms): ModuleList(\n",
       "          (0-2): 3 x LayerNorm((192,), eps=1e-05, elementwise_affine=False)\n",
       "        )\n",
       "      )\n",
       "    )\n",
       "  )\n",
       "  (decoder_dict): ModuleDict(\n",
       "    (standard): Sequential(\n",
       "      (0): Linear(in_features=192, out_features=768, bias=True)\n",
       "      (1): GELU(approximate='none')\n",
       "      (2): Linear(in_features=768, out_features=5000, bias=True)\n",
       "    )\n",
       "  )\n",
       "  (feature_positional_embedding_embeddings): Linear(in_features=48, out_features=192, bias=True)\n",
       ")"
      ]
     },
     "execution_count": 102,
     "metadata": {},
     "output_type": "execute_result"
    }
   ],
   "source": [
    "from tabpfn import TabPFNRegressor\n",
    "\n",
    "reg = TabPFNRegressor()\n",
    "\n",
    "X,y = torch.randn(100, 20), torch.randn(100)\n",
    "\n",
    "reg.fit(X,y)\n",
    "\n",
    "reg.model_"
   ]
  },
  {
   "cell_type": "code",
   "execution_count": 156,
   "metadata": {},
   "outputs": [],
   "source": [
    "X, y = torch.randn(100, 1, 10), torch.randn(100)\n",
    "X_test = torch.randn(10, 1, 10)\n",
    "\n",
    "out = reg.model_.forward(torch.cat([torch.cat([X, torch.zeros_like(X_test)], dim=0), X_test], dim=0), y, single_eval_pos = X.shape[0])"
   ]
  },
  {
   "cell_type": "code",
   "execution_count": 157,
   "metadata": {},
   "outputs": [
    {
     "data": {
      "text/plain": [
       "tensor([[[4.0166, 2.5648, 2.0397,  ..., 2.1991, 2.4066, 3.9054]],\n",
       "\n",
       "        [[4.0166, 2.5648, 2.0397,  ..., 2.1991, 2.4066, 3.9054]],\n",
       "\n",
       "        [[4.0166, 2.5648, 2.0397,  ..., 2.1991, 2.4066, 3.9054]],\n",
       "\n",
       "        ...,\n",
       "\n",
       "        [[4.3162, 2.8634, 2.3291,  ..., 2.3070, 2.5205, 4.0783]],\n",
       "\n",
       "        [[4.5208, 3.0706, 2.5329,  ..., 2.6540, 2.8665, 4.3747]],\n",
       "\n",
       "        [[4.1786, 2.7237, 2.1918,  ..., 2.3088, 2.5186, 4.0333]]],\n",
       "       grad_fn=<ViewBackward0>)"
      ]
     },
     "execution_count": 157,
     "metadata": {},
     "output_type": "execute_result"
    }
   ],
   "source": [
    "out"
   ]
  },
  {
   "cell_type": "code",
   "execution_count": 140,
   "metadata": {},
   "outputs": [
    {
     "data": {
      "text/plain": [
       "tensor([[1.0365],\n",
       "        [1.0158],\n",
       "        [2.4398],\n",
       "        [1.0748],\n",
       "        [1.0473],\n",
       "        [1.0410],\n",
       "        [1.0570],\n",
       "        [1.6131],\n",
       "        [1.1282],\n",
       "        [1.2804]], grad_fn=<NegBackward0>)"
      ]
     },
     "execution_count": 140,
     "metadata": {},
     "output_type": "execute_result"
    }
   ],
   "source": [
    "reg.normalized_bardist_(out, torch.randn(10, 1, 1))"
   ]
  },
  {
   "cell_type": "code",
   "execution_count": 137,
   "metadata": {},
   "outputs": [],
   "source": [
    "model = reg.model_"
   ]
  },
  {
   "cell_type": "code",
   "execution_count": 145,
   "metadata": {},
   "outputs": [
    {
     "data": {
      "text/plain": [
       "PerFeatureTransformer(\n",
       "  (encoder): SequentialEncoder(\n",
       "    (0): RemoveEmptyFeaturesEncoderStep()\n",
       "    (1): NanHandlingEncoderStep()\n",
       "    (2): VariableNumFeaturesEncoderStep()\n",
       "    (3): InputNormalizationEncoderStep()\n",
       "    (4): VariableNumFeaturesEncoderStep()\n",
       "    (5): LinearInputEncoderStep(\n",
       "      (layer): Linear(in_features=4, out_features=192, bias=False)\n",
       "    )\n",
       "  )\n",
       "  (y_encoder): SequentialEncoder(\n",
       "    (0): NanHandlingEncoderStep()\n",
       "    (1): LinearInputEncoderStep(\n",
       "      (layer): Linear(in_features=2, out_features=192, bias=True)\n",
       "    )\n",
       "  )\n",
       "  (transformer_encoder): LayerStack(\n",
       "    (layers): ModuleList(\n",
       "      (0-11): 12 x PerFeatureEncoderLayer(\n",
       "        (self_attn_between_features): MultiHeadAttention()\n",
       "        (self_attn_between_items): MultiHeadAttention()\n",
       "        (mlp): MLP(\n",
       "          (linear1): Linear(in_features=192, out_features=768, bias=False)\n",
       "          (linear2): Linear(in_features=768, out_features=192, bias=False)\n",
       "        )\n",
       "        (layer_norms): ModuleList(\n",
       "          (0-2): 3 x LayerNorm((192,), eps=1e-05, elementwise_affine=False)\n",
       "        )\n",
       "      )\n",
       "    )\n",
       "  )\n",
       "  (decoder_dict): ModuleDict(\n",
       "    (standard): Sequential(\n",
       "      (0): Linear(in_features=192, out_features=768, bias=True)\n",
       "      (1): GELU(approximate='none')\n",
       "      (2): Linear(in_features=768, out_features=5000, bias=True)\n",
       "    )\n",
       "  )\n",
       "  (feature_positional_embedding_embeddings): Linear(in_features=48, out_features=192, bias=True)\n",
       ")"
      ]
     },
     "execution_count": 145,
     "metadata": {},
     "output_type": "execute_result"
    }
   ],
   "source": [
    "reg.model_"
   ]
  },
  {
   "cell_type": "code",
   "execution_count": null,
   "metadata": {},
   "outputs": [],
   "source": []
  },
  {
   "cell_type": "code",
   "execution_count": 164,
   "metadata": {},
   "outputs": [
    {
     "data": {
      "text/plain": [
       "{'training': False,\n",
       " '_parameters': {},\n",
       " '_buffers': {},\n",
       " '_non_persistent_buffers_set': set(),\n",
       " '_backward_pre_hooks': OrderedDict(),\n",
       " '_backward_hooks': OrderedDict(),\n",
       " '_is_full_backward_hook': None,\n",
       " '_forward_hooks': OrderedDict(),\n",
       " '_forward_hooks_with_kwargs': OrderedDict(),\n",
       " '_forward_hooks_always_called': OrderedDict(),\n",
       " '_forward_pre_hooks': OrderedDict(),\n",
       " '_forward_pre_hooks_with_kwargs': OrderedDict(),\n",
       " '_state_dict_hooks': OrderedDict(),\n",
       " '_state_dict_pre_hooks': OrderedDict(),\n",
       " '_load_state_dict_pre_hooks': OrderedDict(),\n",
       " '_load_state_dict_post_hooks': OrderedDict(),\n",
       " '_modules': {},\n",
       " 'in_keys': ['nan_indicators'],\n",
       " 'out_keys': ['nan_indicators'],\n",
       " 'normalize_by_used_features': False,\n",
       " 'num_features': 2,\n",
       " 'normalize_by_sqrt': True,\n",
       " 'number_of_used_features_': tensor([[1],\n",
       "         [1],\n",
       "         [1],\n",
       "         [1],\n",
       "         [1]])}"
      ]
     },
     "execution_count": 164,
     "metadata": {},
     "output_type": "execute_result"
    }
   ],
   "source": [
    "reg.model_.encoder[2].__dict__"
   ]
  },
  {
   "cell_type": "code",
   "execution_count": 213,
   "metadata": {},
   "outputs": [
    {
     "data": {
      "text/plain": [
       "{'training': False,\n",
       " '_parameters': {},\n",
       " '_buffers': {},\n",
       " '_non_persistent_buffers_set': set(),\n",
       " '_backward_pre_hooks': OrderedDict(),\n",
       " '_backward_hooks': OrderedDict(),\n",
       " '_is_full_backward_hook': None,\n",
       " '_forward_hooks': OrderedDict(),\n",
       " '_forward_hooks_with_kwargs': OrderedDict(),\n",
       " '_forward_hooks_always_called': OrderedDict(),\n",
       " '_forward_pre_hooks': OrderedDict(),\n",
       " '_forward_pre_hooks_with_kwargs': OrderedDict(),\n",
       " '_state_dict_hooks': OrderedDict(),\n",
       " '_state_dict_pre_hooks': OrderedDict(),\n",
       " '_load_state_dict_pre_hooks': OrderedDict(),\n",
       " '_load_state_dict_post_hooks': OrderedDict(),\n",
       " '_modules': {},\n",
       " 'in_keys': ('main',),\n",
       " 'out_keys': ('main',),\n",
       " 'normalize_by_used_features': True,\n",
       " 'num_features': 2,\n",
       " 'normalize_by_sqrt': True,\n",
       " 'number_of_used_features_': tensor([[2],\n",
       "         [2],\n",
       "         [2],\n",
       "         [2],\n",
       "         [2]])}"
      ]
     },
     "execution_count": 213,
     "metadata": {},
     "output_type": "execute_result"
    }
   ],
   "source": [
    "reg.model_.encoder[4]"
   ]
  },
  {
   "cell_type": "code",
   "execution_count": 172,
   "metadata": {},
   "outputs": [
    {
     "data": {
      "text/plain": [
       "{'training': False,\n",
       " '_parameters': {},\n",
       " '_buffers': {},\n",
       " '_non_persistent_buffers_set': set(),\n",
       " '_backward_pre_hooks': OrderedDict(),\n",
       " '_backward_hooks': OrderedDict(),\n",
       " '_is_full_backward_hook': None,\n",
       " '_forward_hooks': OrderedDict(),\n",
       " '_forward_hooks_with_kwargs': OrderedDict(),\n",
       " '_forward_hooks_always_called': OrderedDict(),\n",
       " '_forward_pre_hooks': OrderedDict(),\n",
       " '_forward_pre_hooks_with_kwargs': OrderedDict(),\n",
       " '_state_dict_hooks': OrderedDict(),\n",
       " '_state_dict_pre_hooks': OrderedDict(),\n",
       " '_load_state_dict_pre_hooks': OrderedDict(),\n",
       " '_load_state_dict_post_hooks': OrderedDict(),\n",
       " '_modules': {},\n",
       " 'in_keys': ('main',),\n",
       " 'out_keys': ('main',),\n",
       " 'normalize_on_train_only': True,\n",
       " 'normalize_to_ranking': False,\n",
       " 'normalize_x': True,\n",
       " 'remove_outliers': False,\n",
       " 'remove_outliers_sigma': 4.0,\n",
       " 'seed': 0,\n",
       " 'lower_for_outlier_removal': None,\n",
       " 'upper_for_outlier_removal': None,\n",
       " 'mean_for_normalization': tensor([[-0.0344, -0.0156],\n",
       "         [-0.0527, -0.0624],\n",
       "         [ 0.0600,  0.0583],\n",
       "         [-0.0804,  0.1326],\n",
       "         [-0.1961,  0.1158]]),\n",
       " 'std_for_normalization': tensor([[1.0778, 0.9364],\n",
       "         [0.9556, 1.0733],\n",
       "         [0.9014, 0.9922],\n",
       "         [0.9037, 0.9678],\n",
       "         [0.9145, 1.0648]])}"
      ]
     },
     "execution_count": 172,
     "metadata": {},
     "output_type": "execute_result"
    }
   ],
   "source": [
    "reg.model_.encoder[3].__dict__"
   ]
  },
  {
   "cell_type": "code",
   "execution_count": 214,
   "metadata": {},
   "outputs": [],
   "source": [
    "encoder_new = SequentialEncoder(\n",
    "    reg.model_.encoder[4],\n",
    "    reg.model_.encoder[5]\n",
    ")"
   ]
  },
  {
   "cell_type": "code",
   "execution_count": 215,
   "metadata": {},
   "outputs": [
    {
     "data": {
      "text/plain": [
       "SequentialEncoder(\n",
       "  (0): VariableNumFeaturesEncoderStep()\n",
       "  (1): LinearInputEncoderStep(\n",
       "    (layer): Linear(in_features=4, out_features=192, bias=False)\n",
       "  )\n",
       ")"
      ]
     },
     "execution_count": 215,
     "metadata": {},
     "output_type": "execute_result"
    }
   ],
   "source": [
    "encoder_new"
   ]
  },
  {
   "cell_type": "code",
   "execution_count": 218,
   "metadata": {},
   "outputs": [
    {
     "data": {
      "text/plain": [
       "{'training': False,\n",
       " '_parameters': {},\n",
       " '_buffers': {},\n",
       " '_non_persistent_buffers_set': set(),\n",
       " '_backward_pre_hooks': OrderedDict(),\n",
       " '_backward_hooks': OrderedDict(),\n",
       " '_is_full_backward_hook': None,\n",
       " '_forward_hooks': OrderedDict(),\n",
       " '_forward_hooks_with_kwargs': OrderedDict(),\n",
       " '_forward_hooks_always_called': OrderedDict(),\n",
       " '_forward_pre_hooks': OrderedDict(),\n",
       " '_forward_pre_hooks_with_kwargs': OrderedDict(),\n",
       " '_state_dict_hooks': OrderedDict(),\n",
       " '_state_dict_pre_hooks': OrderedDict(),\n",
       " '_load_state_dict_pre_hooks': OrderedDict(),\n",
       " '_load_state_dict_post_hooks': OrderedDict(),\n",
       " '_modules': {},\n",
       " 'in_keys': ('main',),\n",
       " 'out_keys': ('main',),\n",
       " 'normalize_by_used_features': True,\n",
       " 'num_features': 2,\n",
       " 'normalize_by_sqrt': True,\n",
       " 'number_of_used_features_': tensor([[2],\n",
       "         [2],\n",
       "         [2],\n",
       "         [2],\n",
       "         [2]])}"
      ]
     },
     "execution_count": 218,
     "metadata": {},
     "output_type": "execute_result"
    }
   ],
   "source": [
    "encoder_new[0].__dict__"
   ]
  },
  {
   "cell_type": "code",
   "execution_count": 269,
   "metadata": {},
   "outputs": [
    {
     "data": {
      "text/plain": [
       "PerFeatureTransformer(\n",
       "  (encoder): SequentialEncoder(\n",
       "    (0): RemoveEmptyFeaturesEncoderStep()\n",
       "    (1): NanHandlingEncoderStep()\n",
       "    (2): VariableNumFeaturesEncoderStep()\n",
       "    (3): InputNormalizationEncoderStep()\n",
       "    (4): VariableNumFeaturesEncoderStep()\n",
       "    (5): LinearInputEncoderStep(\n",
       "      (layer): Linear(in_features=4, out_features=192, bias=False)\n",
       "    )\n",
       "  )\n",
       "  (y_encoder): SequentialEncoder(\n",
       "    (0): NanHandlingEncoderStep()\n",
       "    (1): LinearInputEncoderStep(\n",
       "      (layer): Linear(in_features=2, out_features=192, bias=True)\n",
       "    )\n",
       "  )\n",
       "  (transformer_encoder): LayerStack(\n",
       "    (layers): ModuleList(\n",
       "      (0-11): 12 x PerFeatureEncoderLayer(\n",
       "        (self_attn_between_features): MultiHeadAttention()\n",
       "        (self_attn_between_items): MultiHeadAttention()\n",
       "        (mlp): MLP(\n",
       "          (linear1): Linear(in_features=192, out_features=768, bias=False)\n",
       "          (linear2): Linear(in_features=768, out_features=192, bias=False)\n",
       "        )\n",
       "        (layer_norms): ModuleList(\n",
       "          (0-2): 3 x LayerNorm((192,), eps=1e-05, elementwise_affine=False)\n",
       "        )\n",
       "      )\n",
       "    )\n",
       "  )\n",
       "  (decoder_dict): ModuleDict(\n",
       "    (standard): Sequential(\n",
       "      (0): Linear(in_features=192, out_features=768, bias=True)\n",
       "      (1): GELU(approximate='none')\n",
       "      (2): Linear(in_features=768, out_features=5000, bias=True)\n",
       "    )\n",
       "  )\n",
       ")"
      ]
     },
     "execution_count": 269,
     "metadata": {},
     "output_type": "execute_result"
    }
   ],
   "source": [
    "from tabpfn.model.config import ModelConfig\n",
    "from tabpfn.model.transformer import PerFeatureTransformer\n",
    "\n",
    "from tabpfn.model.encoders import (\n",
    "    LinearInputEncoderStep,\n",
    "    NanHandlingEncoderStep,\n",
    "    SequentialEncoder,\n",
    "    InputNormalizationEncoderStep,\n",
    "    VariableNumFeaturesEncoderStep,\n",
    ")\n",
    "\n",
    "# encoder = SequentialEncoder(\n",
    "#     VariableNumFeaturesEncoderStep(num_features = 2),\n",
    "#     InputNormalizationEncoderStep(\n",
    "#         normalize_on_train_only = True,\n",
    "#         normalize_to_ranking = False,\n",
    "#         normalize_x = True,\n",
    "#         remove_outliers = False,\n",
    "#         remove_outliers_sigma = 4.0\n",
    "#     ),\n",
    "#     LinearInputEncoderStep(\n",
    "#         input_dim = 4,\n",
    "#         output_dim = 192,\n",
    "#         nan_handling = NanHandlingEncoderStep()\n",
    "#     )\n",
    "# )\n",
    "\n",
    "encoder = reg.model_.encoder\n",
    "\n",
    "encoder[3].mean_for_normalization = torch.zeros_like(encoder[3].mean_for_normalization)\n",
    "encoder[3].std_for_normalization = torch.ones_like(encoder[3].std_for_normalization)\n",
    "\n",
    "encoder[1]._buffers = {'feature_means_' : torch.zeros_like(encoder[1]._buffers['feature_means_'])}\n",
    "\n",
    "config = ModelConfig(\n",
    "    emsize=192,\n",
    "    features_per_group=2,\n",
    "    max_num_classes=10,\n",
    "    nhead=2,\n",
    "    remove_duplicate_features=True,\n",
    "    num_buckets=5000,\n",
    "    max_num_features=50\n",
    ")\n",
    "model = PerFeatureTransformer(config = config, encoder= encoder, n_out = 5000)\n",
    "model"
   ]
  },
  {
   "cell_type": "code",
   "execution_count": 277,
   "metadata": {},
   "outputs": [],
   "source": [
    "# save encoder to file\n",
    "torch.save(encoder, \"encoder.pth\")"
   ]
  },
  {
   "cell_type": "code",
   "execution_count": 278,
   "metadata": {},
   "outputs": [
    {
     "data": {
      "text/plain": [
       "SequentialEncoder(\n",
       "  (0): RemoveEmptyFeaturesEncoderStep()\n",
       "  (1): NanHandlingEncoderStep()\n",
       "  (2): VariableNumFeaturesEncoderStep()\n",
       "  (3): InputNormalizationEncoderStep()\n",
       "  (4): VariableNumFeaturesEncoderStep()\n",
       "  (5): LinearInputEncoderStep(\n",
       "    (layer): Linear(in_features=4, out_features=192, bias=False)\n",
       "  )\n",
       ")"
      ]
     },
     "execution_count": 278,
     "metadata": {},
     "output_type": "execute_result"
    }
   ],
   "source": [
    "loaded_encoder = torch.load('encoder.pth', weights_only=False)\n",
    "loaded_encoder"
   ]
  },
  {
   "cell_type": "code",
   "execution_count": 1,
   "metadata": {},
   "outputs": [],
   "source": [
    "import torch\n",
    "\n",
    "new_X_train = torch.randn(1, 100, 20)\n",
    "new_y = torch.randn(1, 100)\n",
    "new_X_test = torch.randn(1, 10, 20)\n",
    "\n",
    "# model(torch.cat([new_X_train, new_X_test], dim=0), new_y, single_eval_pos = new_X_train.shape[0])"
   ]
  },
  {
   "cell_type": "code",
   "execution_count": 2,
   "metadata": {},
   "outputs": [],
   "source": [
    "from mcpfn.model.mcpfn import MCPFN\n",
    "\n",
    "model = MCPFN(encoder_path = 'src/mcpfn/model/encoder.pth')"
   ]
  },
  {
   "cell_type": "code",
   "execution_count": 3,
   "metadata": {},
   "outputs": [
    {
     "data": {
      "text/plain": [
       "torch.Size([1, 10, 5000])"
      ]
     },
     "execution_count": 3,
     "metadata": {},
     "output_type": "execute_result"
    }
   ],
   "source": [
    "out = model(torch.cat([new_X_train, new_X_test], dim=1), new_y)\n",
    "\n",
    "out.shape"
   ]
  },
  {
   "cell_type": "code",
   "execution_count": 272,
   "metadata": {},
   "outputs": [
    {
     "name": "stdout",
     "output_type": "stream",
     "text": [
      "tensor([-0.5689, -1.1021, -0.4471,  0.9601, -0.5685, -1.2178,  1.5860,  0.0055,\n",
      "         0.3445,  0.1032])\n"
     ]
    },
    {
     "name": "stderr",
     "output_type": "stream",
     "text": [
      "Loss: -4.3115: 100%|██████████| 50/50 [00:11<00:00,  4.52it/s]\n"
     ]
    }
   ],
   "source": [
    "# Let's try one training step\n",
    "\n",
    "y_test = torch.randn(10)\n",
    "print(y_test)\n",
    "\n",
    "from tqdm import tqdm\n",
    "\n",
    "step_progress = tqdm(range(50))\n",
    "\n",
    "# reset model parameters\n",
    "for layer in model.children():\n",
    "   if hasattr(layer, 'reset_parameters'):\n",
    "       layer.reset_parameters()\n",
    "\n",
    "for _ in step_progress:\n",
    "    optim = torch.optim.AdamW(model.parameters(), lr=0.0001)\n",
    "\n",
    "    optim.zero_grad()\n",
    "\n",
    "    out = model(torch.cat([X, X_test], dim=0), y, single_eval_pos = X.shape[0])\n",
    "    loss = normalized_bardist(out, y_test).mean()\n",
    "    loss.backward()\n",
    "\n",
    "    optim.step()\n",
    "    \n",
    "    step_progress.set_description(f\"Loss: {loss.item():.4f}\")"
   ]
  },
  {
   "cell_type": "code",
   "execution_count": 264,
   "metadata": {},
   "outputs": [],
   "source": [
    "out = model(torch.cat([X, X_test], dim=0), y, single_eval_pos = X.shape[0])"
   ]
  },
  {
   "cell_type": "code",
   "execution_count": 265,
   "metadata": {},
   "outputs": [
    {
     "name": "stdout",
     "output_type": "stream",
     "text": [
      "tensor([-0.4668,  0.2356,  0.6985, -1.1044, -0.2697,  0.9062,  1.1155, -0.3559,\n",
      "        -0.6988,  1.0316])\n"
     ]
    },
    {
     "data": {
      "text/plain": [
       "tensor([-0.2513,  0.0882,  0.3636, -0.5889, -0.1727,  0.5199,  0.4821, -0.2265,\n",
       "        -0.3853,  0.3796], grad_fn=<ViewBackward0>)"
      ]
     },
     "execution_count": 265,
     "metadata": {},
     "output_type": "execute_result"
    }
   ],
   "source": [
    "print(y_test)\n",
    "normalized_bardist.mean(out).flatten()"
   ]
  },
  {
   "cell_type": "code",
   "execution_count": 62,
   "metadata": {},
   "outputs": [],
   "source": [
    "from mcpfn.model.bar_distribution import FullSupportBarDistribution\n",
    "from torch import Tensor\n",
    "import torch.nn as nn\n",
    "\n",
    "class OneHotAndLinear(nn.Linear):\n",
    "    \"\"\"Combines one-hot encoding and linear projection in a single efficient operation\n",
    "    to convert categorical indices to embeddings.\n",
    "\n",
    "    Parameters\n",
    "    ----------\n",
    "    num_classes : int\n",
    "        Number of distinct categories for one-hot encoding\n",
    "\n",
    "    embed_dim : int\n",
    "        Output embedding dimension\n",
    "    \"\"\"\n",
    "\n",
    "    def __init__(self, num_classes: int, embed_dim: int):\n",
    "        super().__init__(num_classes, embed_dim)\n",
    "        self.num_classes = num_classes\n",
    "        self.embed_dim = embed_dim\n",
    "\n",
    "    def forward(self, src: Tensor) -> Tensor:\n",
    "        \"\"\"Transform integer indices to dense embeddings.\n",
    "\n",
    "        Parameters\n",
    "        ----------\n",
    "        src : Tensor\n",
    "            Integer tensor of shape (batch_size, sequence_length) containing category indices\n",
    "\n",
    "        Returns\n",
    "        -------\n",
    "        Tensor\n",
    "            Embedded representation of shape (batch_size, sequence_length, embed_dim)\n",
    "        \"\"\"\n",
    "        # Convert indices to one-hot vectors and apply linear projection\n",
    "        one_hot = F.one_hot(src.long(), self.num_classes).to(torch.float32)\n",
    "        return F.linear(one_hot, self.weight, self.bias)\n",
    "    \n",
    "class OneHotAndLinearBarDistribution(nn.Module):\n",
    "    def __init__(self, borders: Tensor, embed_dim: int):\n",
    "        super().__init__()\n",
    "        self.bar_distribution = FullSupportBarDistribution(borders = borders)\n",
    "        self.one_hot_and_linear = OneHotAndLinear(num_classes = len(borders) + 1, embed_dim = embed_dim)\n",
    "        \n",
    "    def forward(self, src: Tensor) -> Tensor:\n",
    "        \"\"\"Transform float values to dense embeddings using the BarDistribution.\n",
    "\n",
    "        Parameters\n",
    "        ----------\n",
    "        src : Tensor\n",
    "            Float tensor of shape (batch_size, sequence_length) containing values to embed\n",
    "\n",
    "        Returns\n",
    "        -------\n",
    "        Tensor\n",
    "            Embedded representation of shape (batch_size, sequence_length, embed_dim)\n",
    "        \"\"\"\n",
    "        border_inds = self.bar_distribution.map_to_bucket_idx(src)\n",
    "        return self.one_hot_and_linear(border_inds)"
   ]
  },
  {
   "cell_type": "code",
   "execution_count": 76,
   "metadata": {},
   "outputs": [
    {
     "data": {
      "text/plain": [
       "tensor([      0.,   10000.,   20000.,   30000.,   40000.,   50000.,   60000.,\n",
       "          70000.,   80000.,   90000.,  100000.,  110000.,  120000.,  130000.,\n",
       "         140000.,  150000.,  160000.,  170000.,  180000.,  190000.,  200000.,\n",
       "         210000.,  220000.,  230000.,  240000.,  250000.,  260000.,  270000.,\n",
       "         280000.,  290000.,  300000.,  310000.,  320000.,  330000.,  340000.,\n",
       "         350000.,  360000.,  370000.,  380000.,  390000.,  400000.,  410000.,\n",
       "         420000.,  430000.,  440000.,  450000.,  460000.,  470000.,  480000.,\n",
       "         490000.,  500000.,  510000.,  520000.,  530000.,  540000.,  550000.,\n",
       "         560000.,  570000.,  580000.,  590000.,  600000.,  610000.,  620000.,\n",
       "         630000.,  640000.,  650000.,  660000.,  670000.,  680000.,  690000.,\n",
       "         700000.,  710000.,  720000.,  730000.,  740000.,  750000.,  760000.,\n",
       "         770000.,  780000.,  790000.,  800000.,  810000.,  820000.,  830000.,\n",
       "         840000.,  850000.,  860000.,  870000.,  880000.,  890000.,  900000.,\n",
       "         910000.,  920000.,  930000.,  940000.,  950000.,  960000.,  970000.,\n",
       "         980000.,  990000., 1000000.])"
      ]
     },
     "execution_count": 76,
     "metadata": {},
     "output_type": "execute_result"
    }
   ],
   "source": [
    "torch.arange(100 + 1).float() * 10_000"
   ]
  },
  {
   "cell_type": "code",
   "execution_count": 75,
   "metadata": {},
   "outputs": [
    {
     "data": {
      "text/plain": [
       "tensor([[[ 0.3768,  0.4734,  0.3515,  0.1267,  0.1809],\n",
       "         [ 0.0697, -0.0408,  0.0008, -0.0110,  0.3711],\n",
       "         [ 0.0934,  0.2529, -0.1078,  0.3877,  0.1241],\n",
       "         ...,\n",
       "         [ 0.2729, -0.0564,  0.2694,  0.2176,  0.2458],\n",
       "         [ 0.0697, -0.0408,  0.0008, -0.0110,  0.3711],\n",
       "         [ 0.0286,  0.1849,  0.2529,  0.0896,  0.2210]],\n",
       "\n",
       "        [[ 0.3768,  0.4734,  0.3515,  0.1267,  0.1809],\n",
       "         [ 0.1820,  0.2355,  0.3742,  0.4739,  0.3579],\n",
       "         [ 0.2617,  0.3889,  0.1455,  0.3633,  0.1481],\n",
       "         ...,\n",
       "         [ 0.2617,  0.3889,  0.1455,  0.3633,  0.1481],\n",
       "         [ 0.2617,  0.3889,  0.1455,  0.3633,  0.1481],\n",
       "         [ 0.3480,  0.0918,  0.2185,  0.4270,  0.5327]],\n",
       "\n",
       "        [[ 0.3480,  0.0918,  0.2185,  0.4270,  0.5327],\n",
       "         [ 0.2617,  0.3889,  0.1455,  0.3633,  0.1481],\n",
       "         [-0.0122,  0.1016,  0.1509,  0.2821,  0.3547],\n",
       "         ...,\n",
       "         [ 0.3480,  0.0918,  0.2185,  0.4270,  0.5327],\n",
       "         [ 0.2729, -0.0564,  0.2694,  0.2176,  0.2458],\n",
       "         [-0.0863,  0.1145,  0.0470,  0.4717,  0.1496]],\n",
       "\n",
       "        [[ 0.2729, -0.0564,  0.2694,  0.2176,  0.2458],\n",
       "         [ 0.0697, -0.0408,  0.0008, -0.0110,  0.3711],\n",
       "         [ 0.3768,  0.4734,  0.3515,  0.1267,  0.1809],\n",
       "         ...,\n",
       "         [ 0.0934,  0.2529, -0.1078,  0.3877,  0.1241],\n",
       "         [ 0.2729, -0.0564,  0.2694,  0.2176,  0.2458],\n",
       "         [ 0.3480,  0.0918,  0.2185,  0.4270,  0.5327]]],\n",
       "       grad_fn=<ViewBackward0>)"
      ]
     },
     "execution_count": 75,
     "metadata": {},
     "output_type": "execute_result"
    }
   ],
   "source": [
    "embed = OneHotAndLinearBarDistribution(borders = get_bucket_limits(num_outputs = 10, ys = y[0]), embed_dim = 5)\n",
    "embed.forward(y)"
   ]
  },
  {
   "cell_type": "code",
   "execution_count": 19,
   "metadata": {},
   "outputs": [
    {
     "data": {
      "text/plain": [
       "torch.float32"
      ]
     },
     "execution_count": 19,
     "metadata": {},
     "output_type": "execute_result"
    }
   ],
   "source": [
    "y"
   ]
  },
  {
   "cell_type": "code",
   "execution_count": 20,
   "metadata": {},
   "outputs": [
    {
     "ename": "RuntimeError",
     "evalue": "Class values must be non-negative.",
     "output_type": "error",
     "traceback": [
      "\u001b[0;31m---------------------------------------------------------------------------\u001b[0m",
      "\u001b[0;31mRuntimeError\u001b[0m                              Traceback (most recent call last)",
      "Cell \u001b[0;32mIn[20], line 1\u001b[0m\n\u001b[0;32m----> 1\u001b[0m \u001b[43membed\u001b[49m\u001b[38;5;241;43m.\u001b[39;49m\u001b[43mforward\u001b[49m\u001b[43m(\u001b[49m\u001b[43my\u001b[49m\u001b[43m)\u001b[49m\n",
      "File \u001b[0;32m~/tabular/mcpfn/src/mcpfn/model/layers.py:112\u001b[0m, in \u001b[0;36mOneHotAndLinearBarDistribution.forward\u001b[0;34m(self, src)\u001b[0m\n\u001b[1;32m     99\u001b[0m \u001b[38;5;250m\u001b[39m\u001b[38;5;124;03m\"\"\"Transform float values to dense embeddings using the BarDistribution.\u001b[39;00m\n\u001b[1;32m    100\u001b[0m \n\u001b[1;32m    101\u001b[0m \u001b[38;5;124;03mParameters\u001b[39;00m\n\u001b[0;32m   (...)\u001b[0m\n\u001b[1;32m    109\u001b[0m \u001b[38;5;124;03m    Embedded representation of shape (batch_size, sequence_length, embed_dim)\u001b[39;00m\n\u001b[1;32m    110\u001b[0m \u001b[38;5;124;03m\"\"\"\u001b[39;00m\n\u001b[1;32m    111\u001b[0m border_inds \u001b[38;5;241m=\u001b[39m \u001b[38;5;28mself\u001b[39m\u001b[38;5;241m.\u001b[39mbar_distribution\u001b[38;5;241m.\u001b[39mmap_to_bucket_idx(src)\n\u001b[0;32m--> 112\u001b[0m \u001b[38;5;28;01mreturn\u001b[39;00m \u001b[38;5;28;43mself\u001b[39;49m\u001b[38;5;241;43m.\u001b[39;49m\u001b[43mone_hot_and_linear\u001b[49m\u001b[43m(\u001b[49m\u001b[43mborder_inds\u001b[49m\u001b[43m)\u001b[49m\n",
      "File \u001b[0;32m~/tabular/.venv/lib/python3.10/site-packages/torch/nn/modules/module.py:1739\u001b[0m, in \u001b[0;36mModule._wrapped_call_impl\u001b[0;34m(self, *args, **kwargs)\u001b[0m\n\u001b[1;32m   1737\u001b[0m     \u001b[38;5;28;01mreturn\u001b[39;00m \u001b[38;5;28mself\u001b[39m\u001b[38;5;241m.\u001b[39m_compiled_call_impl(\u001b[38;5;241m*\u001b[39margs, \u001b[38;5;241m*\u001b[39m\u001b[38;5;241m*\u001b[39mkwargs)  \u001b[38;5;66;03m# type: ignore[misc]\u001b[39;00m\n\u001b[1;32m   1738\u001b[0m \u001b[38;5;28;01melse\u001b[39;00m:\n\u001b[0;32m-> 1739\u001b[0m     \u001b[38;5;28;01mreturn\u001b[39;00m \u001b[38;5;28;43mself\u001b[39;49m\u001b[38;5;241;43m.\u001b[39;49m\u001b[43m_call_impl\u001b[49m\u001b[43m(\u001b[49m\u001b[38;5;241;43m*\u001b[39;49m\u001b[43margs\u001b[49m\u001b[43m,\u001b[49m\u001b[43m \u001b[49m\u001b[38;5;241;43m*\u001b[39;49m\u001b[38;5;241;43m*\u001b[39;49m\u001b[43mkwargs\u001b[49m\u001b[43m)\u001b[49m\n",
      "File \u001b[0;32m~/tabular/.venv/lib/python3.10/site-packages/torch/nn/modules/module.py:1750\u001b[0m, in \u001b[0;36mModule._call_impl\u001b[0;34m(self, *args, **kwargs)\u001b[0m\n\u001b[1;32m   1745\u001b[0m \u001b[38;5;66;03m# If we don't have any hooks, we want to skip the rest of the logic in\u001b[39;00m\n\u001b[1;32m   1746\u001b[0m \u001b[38;5;66;03m# this function, and just call forward.\u001b[39;00m\n\u001b[1;32m   1747\u001b[0m \u001b[38;5;28;01mif\u001b[39;00m \u001b[38;5;129;01mnot\u001b[39;00m (\u001b[38;5;28mself\u001b[39m\u001b[38;5;241m.\u001b[39m_backward_hooks \u001b[38;5;129;01mor\u001b[39;00m \u001b[38;5;28mself\u001b[39m\u001b[38;5;241m.\u001b[39m_backward_pre_hooks \u001b[38;5;129;01mor\u001b[39;00m \u001b[38;5;28mself\u001b[39m\u001b[38;5;241m.\u001b[39m_forward_hooks \u001b[38;5;129;01mor\u001b[39;00m \u001b[38;5;28mself\u001b[39m\u001b[38;5;241m.\u001b[39m_forward_pre_hooks\n\u001b[1;32m   1748\u001b[0m         \u001b[38;5;129;01mor\u001b[39;00m _global_backward_pre_hooks \u001b[38;5;129;01mor\u001b[39;00m _global_backward_hooks\n\u001b[1;32m   1749\u001b[0m         \u001b[38;5;129;01mor\u001b[39;00m _global_forward_hooks \u001b[38;5;129;01mor\u001b[39;00m _global_forward_pre_hooks):\n\u001b[0;32m-> 1750\u001b[0m     \u001b[38;5;28;01mreturn\u001b[39;00m \u001b[43mforward_call\u001b[49m\u001b[43m(\u001b[49m\u001b[38;5;241;43m*\u001b[39;49m\u001b[43margs\u001b[49m\u001b[43m,\u001b[49m\u001b[43m \u001b[49m\u001b[38;5;241;43m*\u001b[39;49m\u001b[38;5;241;43m*\u001b[39;49m\u001b[43mkwargs\u001b[49m\u001b[43m)\u001b[49m\n\u001b[1;32m   1752\u001b[0m result \u001b[38;5;241m=\u001b[39m \u001b[38;5;28;01mNone\u001b[39;00m\n\u001b[1;32m   1753\u001b[0m called_always_called_hooks \u001b[38;5;241m=\u001b[39m \u001b[38;5;28mset\u001b[39m()\n",
      "File \u001b[0;32m~/tabular/mcpfn/src/mcpfn/model/layers.py:89\u001b[0m, in \u001b[0;36mOneHotAndLinear.forward\u001b[0;34m(self, src)\u001b[0m\n\u001b[1;32m     76\u001b[0m \u001b[38;5;250m\u001b[39m\u001b[38;5;124;03m\"\"\"Transform integer indices to dense embeddings.\u001b[39;00m\n\u001b[1;32m     77\u001b[0m \n\u001b[1;32m     78\u001b[0m \u001b[38;5;124;03mParameters\u001b[39;00m\n\u001b[0;32m   (...)\u001b[0m\n\u001b[1;32m     86\u001b[0m \u001b[38;5;124;03m    Embedded representation of shape (batch_size, sequence_length, embed_dim)\u001b[39;00m\n\u001b[1;32m     87\u001b[0m \u001b[38;5;124;03m\"\"\"\u001b[39;00m\n\u001b[1;32m     88\u001b[0m \u001b[38;5;66;03m# Convert indices to one-hot vectors and apply linear projection\u001b[39;00m\n\u001b[0;32m---> 89\u001b[0m one_hot \u001b[38;5;241m=\u001b[39m \u001b[43mF\u001b[49m\u001b[38;5;241;43m.\u001b[39;49m\u001b[43mone_hot\u001b[49m\u001b[43m(\u001b[49m\u001b[43msrc\u001b[49m\u001b[38;5;241;43m.\u001b[39;49m\u001b[43mlong\u001b[49m\u001b[43m(\u001b[49m\u001b[43m)\u001b[49m\u001b[43m,\u001b[49m\u001b[43m \u001b[49m\u001b[38;5;28;43mself\u001b[39;49m\u001b[38;5;241;43m.\u001b[39;49m\u001b[43mnum_classes\u001b[49m\u001b[43m)\u001b[49m\u001b[38;5;241m.\u001b[39mto(src\u001b[38;5;241m.\u001b[39mdtype)\n\u001b[1;32m     90\u001b[0m \u001b[38;5;28;01mreturn\u001b[39;00m F\u001b[38;5;241m.\u001b[39mlinear(one_hot, \u001b[38;5;28mself\u001b[39m\u001b[38;5;241m.\u001b[39mweight, \u001b[38;5;28mself\u001b[39m\u001b[38;5;241m.\u001b[39mbias)\n",
      "\u001b[0;31mRuntimeError\u001b[0m: Class values must be non-negative."
     ]
    }
   ],
   "source": [
    "embed.forward(y)"
   ]
  },
  {
   "cell_type": "code",
   "execution_count": 166,
   "metadata": {},
   "outputs": [],
   "source": [
    "logits = torch.randn(4, 2000, 100)"
   ]
  },
  {
   "cell_type": "code",
   "execution_count": 57,
   "metadata": {},
   "outputs": [
    {
     "data": {
      "text/plain": [
       "tensor([-93.0867, -26.1321, -22.6323,  ...,  23.6954,  27.1553,  86.9426])"
      ]
     },
     "execution_count": 57,
     "metadata": {},
     "output_type": "execute_result"
    }
   ],
   "source": [
    "torch.load('borders.pt')"
   ]
  },
  {
   "cell_type": "code",
   "execution_count": 56,
   "metadata": {},
   "outputs": [
    {
     "data": {
      "text/plain": [
       "[<matplotlib.lines.Line2D at 0x32d842890>]"
      ]
     },
     "execution_count": 56,
     "metadata": {},
     "output_type": "execute_result"
    },
    {
     "data": {
      "image/png": "[encoded data removed]",
      "text/plain": [
       "<Figure size 640x480 with 1 Axes>"
      ]
     },
     "metadata": {},
     "output_type": "display_data"
    }
   ],
   "source": [
    "import torch\n",
    "\n",
    "torch.load('borders.pt')\n",
    "\n",
    "import matplotlib.pyplot as plt\n",
    "\n",
    "plt.plot(torch.load('borders.pt'))"
   ]
  },
  {
   "cell_type": "code",
   "execution_count": 150,
   "metadata": {},
   "outputs": [
    {
     "data": {
      "text/plain": [
       "tensor([-3.8737e+00, -2.4309e+00, -2.0873e+00, -1.9186e+00, -1.7537e+00,\n",
       "        -1.6525e+00, -1.5780e+00, -1.4858e+00, -1.3852e+00, -1.3385e+00,\n",
       "        -1.2987e+00, -1.2466e+00, -1.2169e+00, -1.1501e+00, -1.0999e+00,\n",
       "        -1.0378e+00, -1.0113e+00, -9.6897e-01, -9.2145e-01, -8.8394e-01,\n",
       "        -8.4370e-01, -8.0649e-01, -7.7390e-01, -7.4602e-01, -7.1809e-01,\n",
       "        -6.7251e-01, -6.4145e-01, -6.1843e-01, -5.9119e-01, -5.6030e-01,\n",
       "        -5.3457e-01, -5.0215e-01, -4.7838e-01, -4.5791e-01, -4.3009e-01,\n",
       "        -4.1545e-01, -3.8019e-01, -3.5528e-01, -3.3076e-01, -3.0420e-01,\n",
       "        -2.7439e-01, -2.4172e-01, -2.2195e-01, -1.9647e-01, -1.7418e-01,\n",
       "        -1.4726e-01, -1.2405e-01, -9.5777e-02, -7.5509e-02, -5.1924e-02,\n",
       "        -3.1530e-02, -3.8033e-03,  1.9635e-02,  4.3842e-02,  7.4794e-02,\n",
       "         9.6513e-02,  1.2021e-01,  1.6955e-01,  1.9146e-01,  2.2836e-01,\n",
       "         2.6040e-01,  2.8865e-01,  3.1268e-01,  3.3820e-01,  3.6411e-01,\n",
       "         3.8537e-01,  4.1810e-01,  4.4873e-01,  4.7566e-01,  5.1760e-01,\n",
       "         5.4440e-01,  5.7921e-01,  6.0155e-01,  6.4136e-01,  6.6868e-01,\n",
       "         7.0767e-01,  7.3015e-01,  7.6188e-01,  7.9488e-01,  8.4433e-01,\n",
       "         8.9623e-01,  9.2130e-01,  9.5632e-01,  9.9074e-01,  1.0510e+00,\n",
       "         1.0883e+00,  1.1430e+00,  1.1963e+00,  1.2480e+00,  1.3155e+00,\n",
       "         1.3687e+00,  1.4048e+00,  1.4566e+00,  1.5441e+00,  1.6261e+00,\n",
       "         1.7281e+00,  1.8248e+00,  1.9918e+00,  2.1905e+00,  2.4547e+00,\n",
       "         3.4628e+00])"
      ]
     },
     "execution_count": 150,
     "metadata": {},
     "output_type": "execute_result"
    }
   ],
   "source": [
    "get_bucket_limits(num_outputs = 100, ys = y[0])"
   ]
  },
  {
   "cell_type": "code",
   "execution_count": null,
   "metadata": {},
   "outputs": [],
   "source": [
    "# Now we just need to train on this data"
   ]
  },
  {
   "cell_type": "code",
   "execution_count": 151,
   "metadata": {},
   "outputs": [],
   "source": [
    "import torch\n",
    "\n",
    "batch1 = torch.load('/Users/jfeit/tabular/mcpfn/prior/batch_000000.pt')"
   ]
  },
  {
   "cell_type": "code",
   "execution_count": 154,
   "metadata": {},
   "outputs": [
    {
     "data": {
      "text/plain": [
       "tensor(760)"
      ]
     },
     "execution_count": 154,
     "metadata": {},
     "output_type": "execute_result"
    }
   ],
   "source": [
    "batch1['X'].isnan().sum()"
   ]
  },
  {
   "cell_type": "code",
   "execution_count": 48,
   "metadata": {},
   "outputs": [
    {
     "data": {
      "text/plain": [
       "torch.Size([26227712])"
      ]
     },
     "execution_count": 48,
     "metadata": {},
     "output_type": "execute_result"
    }
   ],
   "source": [
    "batch1['X']"
   ]
  },
  {
   "cell_type": "code",
   "execution_count": 46,
   "metadata": {},
   "outputs": [
    {
     "data": {
      "text/plain": [
       "torch.Size([512, 1024])"
      ]
     },
     "execution_count": 46,
     "metadata": {},
     "output_type": "execute_result"
    }
   ],
   "source": [
    "batch1['y'].shape"
   ]
  },
  {
   "cell_type": "code",
   "execution_count": 43,
   "metadata": {},
   "outputs": [
    {
     "data": {
      "text/plain": [
       "tensor([ 13,  13,  13,  13,  36,  36,  36,  36,  37,  37,  37,  37,  47,  47,\n",
       "         47,  47,  42,  42,  42,  42,  97,  97,  97,  97,  37,  37,  37,  37,\n",
       "         75,  75,  75,  75,  43,  43,  43,  43,  70,  70,  70,  70,  73,  74,\n",
       "         74,  74,  55,  55,  55,  55,  46,  46,  46,  46,  94,  94,  94,  94,\n",
       "         18,  18,  18,  18,  60,  60,  60,  60,  44,  44,  44,  44,  83,  83,\n",
       "         83,  83,  47,  47,  47,  47,  36,  36,  36,  36,  20,  20,  20,  20,\n",
       "         30,  30,  30,  30,  43,  43,  43,  43,  61,  61,  61,  61,  33,  33,\n",
       "         33,  33,   5,   5,   5,   5, 100, 100, 100, 100,  39,  39,  39,  39,\n",
       "          4,   4,   4,   4,  79,  79,  79,  79,  97,  97,  97,  97,  80,  80,\n",
       "         80,  80,  62,  62,  62,  62,  10,  10,  10,  10,  52,  52,  52,  52,\n",
       "         82,  82,  82,  82,   8,   8,   8,   8,  58,  58,  58,  58,  78,  78,\n",
       "         78,  78,  12,  12,  12,  12,  72,  72,  72,  72,  80,  80,  80,  80,\n",
       "         97,  99,  99,  99,  29,  29,  29,  29,  55,  55,  55,  55,  17,  17,\n",
       "         17,  17,  43,  43,  43,  43,  59,  59,  59,  59,  82,  82,  82,  82,\n",
       "         45,  45,  45,  45,  91,  91,  91,  91,  13,  13,  13,  13,  14,  14,\n",
       "         14,  14,  68,  68,  68,  68,  22,  22,  22,  22,  57,  57,  57,  57,\n",
       "         12,  12,  12,  12,  73,  73,  73,  73,  33,  33,  33,  33,  13,  13,\n",
       "         13,  13,  19,  19,  19,  19,  49,  49,  49,  49,  19,  19,  19,  19,\n",
       "         43,  43,  43,  43,  14,  14,  14,  14,  35,  35,  35,  35,  79,  79,\n",
       "         79,  79,  16,  16,  16,  16,  84,  84,  84,  84,  94,  94,  94,  94,\n",
       "         15,  15,  15,  15,  62,  62,  62,  62,   9,   9,   9,   9,  89,  89,\n",
       "         89,  89,  15,  15,  15,  15,  48,  48,  48,  48,  62,  62,  62,  62,\n",
       "         37,  37,  37,  37,  12,  12,  12,  12,  79,  79,  79,  79,  20,  20,\n",
       "         20,  20,  80,  80,  80,  80,  28,  28,  28,  28,  81,  81,  81,  81,\n",
       "         84,  84,  84,  84,  90,  90,  90,  90,   8,   8,   8,   8,   8,   8,\n",
       "          8,   8,  25,  25,  25,  25,  74,  74,  74,  74,  40,  40,  40,  40,\n",
       "         28,  28,  28,  28,  11,  11,  11,  11,   8,   8,   8,   8,  73,  73,\n",
       "         73,  73,  61,  61,  61,  61,  28,  28,  28,  28,  88,  88,  88,  88,\n",
       "         57,  57,  57,  57,  67,  67,  67,  67,  18,  18,  18,  18,  16,  16,\n",
       "         16,  16,  59,  59,  59,  59,  77,  77,  77,  77,  85,  85,  85,  85,\n",
       "         81,  81,  81,  81,  89,  89,  89,  89,  79,  79,  79,  79,   4,   4,\n",
       "          4,   4,  11,  11,  11,  11,  84,  84,  84,  84,  75,  75,  75,  75,\n",
       "         27,  27,  27,  27,  84,  84,  84,  84,  65,  65,  65,  65,  54,  54,\n",
       "         54,  54,  87,  87,  87,  87,  40,  40,  40,  40,  29,  29,  29,  29,\n",
       "         26,  26,  26,  26,  98,  98,  98,  98,  57,  57,  57,  57,  53,  53,\n",
       "         53,  53,  41,  41,  41,  41,  32,  32,  32,  32,  97,  97,  97,  97,\n",
       "         25,  25,  25,  25,  88,  88,  88,  88])"
      ]
     },
     "execution_count": 43,
     "metadata": {},
     "output_type": "execute_result"
    }
   ],
   "source": [
    "batch1['d']"
   ]
  },
  {
   "cell_type": "code",
   "execution_count": 6,
   "metadata": {},
   "outputs": [],
   "source": [
    "from torch import nn\n",
    "import torch.nn.functional as F"
   ]
  },
  {
   "cell_type": "code",
   "execution_count": 18,
   "metadata": {},
   "outputs": [
    {
     "data": {
      "text/plain": [
       "tensor([[[-0.3267,  0.5456, -0.2666,  ...,  0.1564,  0.1221, -0.0616],\n",
       "         [-0.3267,  0.5456, -0.2666,  ...,  0.1564,  0.1221, -0.0616],\n",
       "         [-0.1359,  0.0529, -0.2173,  ..., -0.2137, -0.2599,  0.2424],\n",
       "         ...,\n",
       "         [-0.1359,  0.0529, -0.2173,  ..., -0.2137, -0.2599,  0.2424],\n",
       "         [-0.0175,  0.3406, -0.1104,  ..., -0.1093,  0.2604,  0.2327],\n",
       "         [-0.0101,  0.4443,  0.0548,  ...,  0.0775, -0.0382,  0.2546]]],\n",
       "       grad_fn=<ViewBackward0>)"
      ]
     },
     "execution_count": 18,
     "metadata": {},
     "output_type": "execute_result"
    }
   ],
   "source": [
    "y_train = torch.randint(0, 10, (1, 1900))\n",
    "\n",
    "one_hot = F.one_hot(y_train.long(), 10).to(torch.float32)\n",
    "\n",
    "lin = nn.Linear(10, 512)\n",
    "\n",
    "lin(one_hot)"
   ]
  },
  {
   "cell_type": "code",
   "execution_count": 13,
   "metadata": {},
   "outputs": [
    {
     "data": {
      "text/plain": [
       "torch.Size([1, 1900, 10])"
      ]
     },
     "execution_count": 13,
     "metadata": {},
     "output_type": "execute_result"
    }
   ],
   "source": [
    "one_hot.shape"
   ]
  },
  {
   "cell_type": "code",
   "execution_count": 23,
   "metadata": {},
   "outputs": [],
   "source": [
    "batch1 = torch.load('prior/batch_000000.pt')"
   ]
  },
  {
   "cell_type": "code",
   "execution_count": 37,
   "metadata": {},
   "outputs": [
    {
     "data": {
      "text/plain": [
       "20.0"
      ]
     },
     "execution_count": 37,
     "metadata": {},
     "output_type": "execute_result"
    }
   ],
   "source": [
    "batch1['X'].shape[0] / (4 * 2000)"
   ]
  },
  {
   "cell_type": "code",
   "execution_count": 33,
   "metadata": {},
   "outputs": [
    {
     "data": {
      "text/plain": [
       "{'X': tensor([ 1.4873,  0.9007, -2.1055,  ...,  0.5313,  2.5650,  0.4879]),\n",
       " 'y': tensor([[ 1.9269,  1.4873,  0.9007,  ...,  0.3189,  0.7836,  0.3841],\n",
       "         [-0.9928, -0.2558, -0.9586,  ...,  1.8776, -0.0146, -1.3936],\n",
       "         [-2.4740,  1.3030, -0.5953,  ..., -1.1701, -0.3380, -1.2186],\n",
       "         [-0.4628,  0.1498,  0.6902,  ...,  0.4652,  0.0260, -1.0705]]),\n",
       " 'd': tensor([20, 20, 20, 20]),\n",
       " 'seq_lens': tensor([2000., 2000., 2000., 2000.]),\n",
       " 'train_sizes': tensor([1990., 1990., 1990., 1990.]),\n",
       " 'batch_size': 4}"
      ]
     },
     "execution_count": 33,
     "metadata": {},
     "output_type": "execute_result"
    }
   ],
   "source": [
    "batch1"
   ]
  },
  {
   "cell_type": "code",
   "execution_count": 43,
   "metadata": {},
   "outputs": [],
   "source": [
    "X = batch1['X'].reshape((4, 2000, 20))"
   ]
  },
  {
   "cell_type": "code",
   "execution_count": 47,
   "metadata": {},
   "outputs": [],
   "source": [
    "X1 = X[0:1, :]\n",
    "\n",
    "# Compute mean along dim=2 (last dimension), ignoring NaNs\n",
    "mean_vals = torch.nanmean(X1, dim=2, keepdim=True)  # shape: [1, 2000, 1]\n",
    "\n",
    "# Find the NaNs\n",
    "nan_mask = torch.isnan(X1)  # shape: [1, 2000, 20]\n",
    "\n",
    "# Expand mean_vals to match x's shape for indexing\n",
    "mean_vals_expanded = mean_vals.expand_as(X1)\n",
    "\n",
    "# Replace NaNs with corresponding mean values\n",
    "X1[nan_mask] = mean_vals_expanded[nan_mask]"
   ]
  },
  {
   "cell_type": "code",
   "execution_count": 54,
   "metadata": {},
   "outputs": [
    {
     "data": {
      "text/plain": [
       "tensor([ 0.0186,  0.6454,  2.6221,  0.0877, -2.3692, -1.5197, -0.4666,  0.3189,\n",
       "         0.7836,  0.3841])"
      ]
     },
     "execution_count": 54,
     "metadata": {},
     "output_type": "execute_result"
    }
   ],
   "source": [
    "batch1['y'][0,1990:]"
   ]
  },
  {
   "cell_type": "code",
   "execution_count": 48,
   "metadata": {},
   "outputs": [
    {
     "data": {
      "text/plain": [
       "tensor(0)"
      ]
     },
     "execution_count": 48,
     "metadata": {},
     "output_type": "execute_result"
    }
   ],
   "source": [
    "X1.isnan().sum()"
   ]
  },
  {
   "cell_type": "code",
   "execution_count": 22,
   "metadata": {},
   "outputs": [
    {
     "name": "stdout",
     "output_type": "stream",
     "text": [
      "torch.Size([1, 1900, 1])\n"
     ]
    },
    {
     "data": {
      "text/plain": [
       "tensor([[[ 0.3893,  1.0122, -0.0252,  ...,  0.0104,  0.6351,  0.7693],\n",
       "         [ 0.4426,  0.9237,  0.0062,  ...,  0.0411,  0.7069,  0.7064],\n",
       "         [ 0.3873,  1.0155, -0.0263,  ...,  0.0092,  0.6325,  0.7716],\n",
       "         ...,\n",
       "         [ 0.0725,  1.5377, -0.2118,  ..., -0.1722,  0.2090,  1.1428],\n",
       "         [ 0.2951,  1.1684, -0.0807,  ..., -0.0439,  0.5084,  0.8803],\n",
       "         [ 0.9194,  0.1325,  0.2872,  ...,  0.3160,  1.3485,  0.1440]]],\n",
       "       grad_fn=<ViewBackward0>)"
      ]
     },
     "execution_count": 22,
     "metadata": {},
     "output_type": "execute_result"
    }
   ],
   "source": [
    "y_train = torch.randn(1,1900)\n",
    "\n",
    "y_train = y_train.unsqueeze(2)\n",
    "\n",
    "lin = nn.Linear(1, 512)\n",
    "\n",
    "lin(y_train)"
   ]
  },
  {
   "cell_type": "code",
   "execution_count": null,
   "metadata": {},
   "outputs": [
    {
     "name": "stdout",
     "output_type": "stream",
     "text": [
      "tensor([-93.0867, -26.1321, -22.6323,  ...,  23.6954,  27.1553,  86.9426])\n"
     ]
    },
    {
     "name": "stderr",
     "output_type": "stream",
     "text": [
      "/Users/jfeit/tabular/tabpfn/TabPFN/src/tabpfn/regressor.py:489: UserWarning: Running on CPU with more than 200 samples may be slow.\n",
      "Consider using a GPU or the tabpfn-client API: https://github.com/PriorLabs/tabpfn-client\n",
      "  check_cpu_warning(\n"
     ]
    },
    {
     "data": {
      "text/plain": [
       "tensor([-93.0867, -26.1321, -22.6323,  ...,  23.6954,  27.1553,  86.9426])"
      ]
     },
     "execution_count": 1,
     "metadata": {},
     "output_type": "execute_result"
    }
   ],
   "source": [
    "# Load diabetes dataset\n",
    "from sklearn.datasets import load_diabetes\n",
    "\n",
    "diabetes = load_diabetes()\n",
    "X = diabetes.data\n",
    "y = diabetes.target\n",
    "\n",
    "# Split into train and test\n",
    "from sklearn.model_selection import train_test_split\n",
    "\n",
    "X_train, X_test, y_train, y_test = train_test_split(X, y, test_size=0.2, random_state=42)\n",
    "\n",
    "from tabpfn import TabPFNRegressor\n",
    "\n",
    "model = TabPFNRegressor(device=\"cpu\")\n",
    "\n",
    "model.fit(X_train, y_train)\n",
    "model.bardist_.borders.shape"
   ]
  },
  {
   "cell_type": "code",
   "execution_count": 92,
   "metadata": {},
   "outputs": [
    {
     "name": "stderr",
     "output_type": "stream",
     "text": [
      "/Users/jfeit/tabular/.venv/lib/python3.10/site-packages/tabpfn/classifier.py:432: UserWarning: Running on CPU with more than 200 samples may be slow.\n",
      "Consider using a GPU or the tabpfn-client API: https://github.com/PriorLabs/tabpfn-client\n",
      "  check_cpu_warning(\n"
     ]
    },
    {
     "data": {
      "text/html": [
       "<style>#sk-container-id-2 {\n",
       "  /* Definition of color scheme common for light and dark mode */\n",
       "  --sklearn-color-text: #000;\n",
       "  --sklearn-color-text-muted: #666;\n",
       "  --sklearn-color-line: gray;\n",
       "  /* Definition of color scheme for unfitted estimators */\n",
       "  --sklearn-color-unfitted-level-0: #fff5e6;\n",
       "  --sklearn-color-unfitted-level-1: #f6e4d2;\n",
       "  --sklearn-color-unfitted-level-2: #ffe0b3;\n",
       "  --sklearn-color-unfitted-level-3: chocolate;\n",
       "  /* Definition of color scheme for fitted estimators */\n",
       "  --sklearn-color-fitted-level-0: #f0f8ff;\n",
       "  --sklearn-color-fitted-level-1: #d4ebff;\n",
       "  --sklearn-color-fitted-level-2: #b3dbfd;\n",
       "  --sklearn-color-fitted-level-3: cornflowerblue;\n",
       "\n",
       "  /* Specific color for light theme */\n",
       "  --sklearn-color-text-on-default-background: var(--sg-text-color, var(--theme-code-foreground, var(--jp-content-font-color1, black)));\n",
       "  --sklearn-color-background: var(--sg-background-color, var(--theme-background, var(--jp-layout-color0, white)));\n",
       "  --sklearn-color-border-box: var(--sg-text-color, var(--theme-code-foreground, var(--jp-content-font-color1, black)));\n",
       "  --sklearn-color-icon: #696969;\n",
       "\n",
       "  @media (prefers-color-scheme: dark) {\n",
       "    /* Redefinition of color scheme for dark theme */\n",
       "    --sklearn-color-text-on-default-background: var(--sg-text-color, var(--theme-code-foreground, var(--jp-content-font-color1, white)));\n",
       "    --sklearn-color-background: var(--sg-background-color, var(--theme-background, var(--jp-layout-color0, #111)));\n",
       "    --sklearn-color-border-box: var(--sg-text-color, var(--theme-code-foreground, var(--jp-content-font-color1, white)));\n",
       "    --sklearn-color-icon: #878787;\n",
       "  }\n",
       "}\n",
       "\n",
       "#sk-container-id-2 {\n",
       "  color: var(--sklearn-color-text);\n",
       "}\n",
       "\n",
       "#sk-container-id-2 pre {\n",
       "  padding: 0;\n",
       "}\n",
       "\n",
       "#sk-container-id-2 input.sk-hidden--visually {\n",
       "  border: 0;\n",
       "  clip: rect(1px 1px 1px 1px);\n",
       "  clip: rect(1px, 1px, 1px, 1px);\n",
       "  height: 1px;\n",
       "  margin: -1px;\n",
       "  overflow: hidden;\n",
       "  padding: 0;\n",
       "  position: absolute;\n",
       "  width: 1px;\n",
       "}\n",
       "\n",
       "#sk-container-id-2 div.sk-dashed-wrapped {\n",
       "  border: 1px dashed var(--sklearn-color-line);\n",
       "  margin: 0 0.4em 0.5em 0.4em;\n",
       "  box-sizing: border-box;\n",
       "  padding-bottom: 0.4em;\n",
       "  background-color: var(--sklearn-color-background);\n",
       "}\n",
       "\n",
       "#sk-container-id-2 div.sk-container {\n",
       "  /* jupyter's `normalize.less` sets `[hidden] { display: none; }`\n",
       "     but bootstrap.min.css set `[hidden] { display: none !important; }`\n",
       "     so we also need the `!important` here to be able to override the\n",
       "     default hidden behavior on the sphinx rendered scikit-learn.org.\n",
       "     See: https://github.com/scikit-learn/scikit-learn/issues/21755 */\n",
       "  display: inline-block !important;\n",
       "  position: relative;\n",
       "}\n",
       "\n",
       "#sk-container-id-2 div.sk-text-repr-fallback {\n",
       "  display: none;\n",
       "}\n",
       "\n",
       "div.sk-parallel-item,\n",
       "div.sk-serial,\n",
       "div.sk-item {\n",
       "  /* draw centered vertical line to link estimators */\n",
       "  background-image: linear-gradient(var(--sklearn-color-text-on-default-background), var(--sklearn-color-text-on-default-background));\n",
       "  background-size: 2px 100%;\n",
       "  background-repeat: no-repeat;\n",
       "  background-position: center center;\n",
       "}\n",
       "\n",
       "/* Parallel-specific style estimator block */\n",
       "\n",
       "#sk-container-id-2 div.sk-parallel-item::after {\n",
       "  content: \"\";\n",
       "  width: 100%;\n",
       "  border-bottom: 2px solid var(--sklearn-color-text-on-default-background);\n",
       "  flex-grow: 1;\n",
       "}\n",
       "\n",
       "#sk-container-id-2 div.sk-parallel {\n",
       "  display: flex;\n",
       "  align-items: stretch;\n",
       "  justify-content: center;\n",
       "  background-color: var(--sklearn-color-background);\n",
       "  position: relative;\n",
       "}\n",
       "\n",
       "#sk-container-id-2 div.sk-parallel-item {\n",
       "  display: flex;\n",
       "  flex-direction: column;\n",
       "}\n",
       "\n",
       "#sk-container-id-2 div.sk-parallel-item:first-child::after {\n",
       "  align-self: flex-end;\n",
       "  width: 50%;\n",
       "}\n",
       "\n",
       "#sk-container-id-2 div.sk-parallel-item:last-child::after {\n",
       "  align-self: flex-start;\n",
       "  width: 50%;\n",
       "}\n",
       "\n",
       "#sk-container-id-2 div.sk-parallel-item:only-child::after {\n",
       "  width: 0;\n",
       "}\n",
       "\n",
       "/* Serial-specific style estimator block */\n",
       "\n",
       "#sk-container-id-2 div.sk-serial {\n",
       "  display: flex;\n",
       "  flex-direction: column;\n",
       "  align-items: center;\n",
       "  background-color: var(--sklearn-color-background);\n",
       "  padding-right: 1em;\n",
       "  padding-left: 1em;\n",
       "}\n",
       "\n",
       "\n",
       "/* Toggleable style: style used for estimator/Pipeline/ColumnTransformer box that is\n",
       "clickable and can be expanded/collapsed.\n",
       "- Pipeline and ColumnTransformer use this feature and define the default style\n",
       "- Estimators will overwrite some part of the style using the `sk-estimator` class\n",
       "*/\n",
       "\n",
       "/* Pipeline and ColumnTransformer style (default) */\n",
       "\n",
       "#sk-container-id-2 div.sk-toggleable {\n",
       "  /* Default theme specific background. It is overwritten whether we have a\n",
       "  specific estimator or a Pipeline/ColumnTransformer */\n",
       "  background-color: var(--sklearn-color-background);\n",
       "}\n",
       "\n",
       "/* Toggleable label */\n",
       "#sk-container-id-2 label.sk-toggleable__label {\n",
       "  cursor: pointer;\n",
       "  display: flex;\n",
       "  width: 100%;\n",
       "  margin-bottom: 0;\n",
       "  padding: 0.5em;\n",
       "  box-sizing: border-box;\n",
       "  text-align: center;\n",
       "  align-items: start;\n",
       "  justify-content: space-between;\n",
       "  gap: 0.5em;\n",
       "}\n",
       "\n",
       "#sk-container-id-2 label.sk-toggleable__label .caption {\n",
       "  font-size: 0.6rem;\n",
       "  font-weight: lighter;\n",
       "  color: var(--sklearn-color-text-muted);\n",
       "}\n",
       "\n",
       "#sk-container-id-2 label.sk-toggleable__label-arrow:before {\n",
       "  /* Arrow on the left of the label */\n",
       "  content: \"▸\";\n",
       "  float: left;\n",
       "  margin-right: 0.25em;\n",
       "  color: var(--sklearn-color-icon);\n",
       "}\n",
       "\n",
       "#sk-container-id-2 label.sk-toggleable__label-arrow:hover:before {\n",
       "  color: var(--sklearn-color-text);\n",
       "}\n",
       "\n",
       "/* Toggleable content - dropdown */\n",
       "\n",
       "#sk-container-id-2 div.sk-toggleable__content {\n",
       "  max-height: 0;\n",
       "  max-width: 0;\n",
       "  overflow: hidden;\n",
       "  text-align: left;\n",
       "  /* unfitted */\n",
       "  background-color: var(--sklearn-color-unfitted-level-0);\n",
       "}\n",
       "\n",
       "#sk-container-id-2 div.sk-toggleable__content.fitted {\n",
       "  /* fitted */\n",
       "  background-color: var(--sklearn-color-fitted-level-0);\n",
       "}\n",
       "\n",
       "#sk-container-id-2 div.sk-toggleable__content pre {\n",
       "  margin: 0.2em;\n",
       "  border-radius: 0.25em;\n",
       "  color: var(--sklearn-color-text);\n",
       "  /* unfitted */\n",
       "  background-color: var(--sklearn-color-unfitted-level-0);\n",
       "}\n",
       "\n",
       "#sk-container-id-2 div.sk-toggleable__content.fitted pre {\n",
       "  /* unfitted */\n",
       "  background-color: var(--sklearn-color-fitted-level-0);\n",
       "}\n",
       "\n",
       "#sk-container-id-2 input.sk-toggleable__control:checked~div.sk-toggleable__content {\n",
       "  /* Expand drop-down */\n",
       "  max-height: 200px;\n",
       "  max-width: 100%;\n",
       "  overflow: auto;\n",
       "}\n",
       "\n",
       "#sk-container-id-2 input.sk-toggleable__control:checked~label.sk-toggleable__label-arrow:before {\n",
       "  content: \"▾\";\n",
       "}\n",
       "\n",
       "/* Pipeline/ColumnTransformer-specific style */\n",
       "\n",
       "#sk-container-id-2 div.sk-label input.sk-toggleable__control:checked~label.sk-toggleable__label {\n",
       "  color: var(--sklearn-color-text);\n",
       "  background-color: var(--sklearn-color-unfitted-level-2);\n",
       "}\n",
       "\n",
       "#sk-container-id-2 div.sk-label.fitted input.sk-toggleable__control:checked~label.sk-toggleable__label {\n",
       "  background-color: var(--sklearn-color-fitted-level-2);\n",
       "}\n",
       "\n",
       "/* Estimator-specific style */\n",
       "\n",
       "/* Colorize estimator box */\n",
       "#sk-container-id-2 div.sk-estimator input.sk-toggleable__control:checked~label.sk-toggleable__label {\n",
       "  /* unfitted */\n",
       "  background-color: var(--sklearn-color-unfitted-level-2);\n",
       "}\n",
       "\n",
       "#sk-container-id-2 div.sk-estimator.fitted input.sk-toggleable__control:checked~label.sk-toggleable__label {\n",
       "  /* fitted */\n",
       "  background-color: var(--sklearn-color-fitted-level-2);\n",
       "}\n",
       "\n",
       "#sk-container-id-2 div.sk-label label.sk-toggleable__label,\n",
       "#sk-container-id-2 div.sk-label label {\n",
       "  /* The background is the default theme color */\n",
       "  color: var(--sklearn-color-text-on-default-background);\n",
       "}\n",
       "\n",
       "/* On hover, darken the color of the background */\n",
       "#sk-container-id-2 div.sk-label:hover label.sk-toggleable__label {\n",
       "  color: var(--sklearn-color-text);\n",
       "  background-color: var(--sklearn-color-unfitted-level-2);\n",
       "}\n",
       "\n",
       "/* Label box, darken color on hover, fitted */\n",
       "#sk-container-id-2 div.sk-label.fitted:hover label.sk-toggleable__label.fitted {\n",
       "  color: var(--sklearn-color-text);\n",
       "  background-color: var(--sklearn-color-fitted-level-2);\n",
       "}\n",
       "\n",
       "/* Estimator label */\n",
       "\n",
       "#sk-container-id-2 div.sk-label label {\n",
       "  font-family: monospace;\n",
       "  font-weight: bold;\n",
       "  display: inline-block;\n",
       "  line-height: 1.2em;\n",
       "}\n",
       "\n",
       "#sk-container-id-2 div.sk-label-container {\n",
       "  text-align: center;\n",
       "}\n",
       "\n",
       "/* Estimator-specific */\n",
       "#sk-container-id-2 div.sk-estimator {\n",
       "  font-family: monospace;\n",
       "  border: 1px dotted var(--sklearn-color-border-box);\n",
       "  border-radius: 0.25em;\n",
       "  box-sizing: border-box;\n",
       "  margin-bottom: 0.5em;\n",
       "  /* unfitted */\n",
       "  background-color: var(--sklearn-color-unfitted-level-0);\n",
       "}\n",
       "\n",
       "#sk-container-id-2 div.sk-estimator.fitted {\n",
       "  /* fitted */\n",
       "  background-color: var(--sklearn-color-fitted-level-0);\n",
       "}\n",
       "\n",
       "/* on hover */\n",
       "#sk-container-id-2 div.sk-estimator:hover {\n",
       "  /* unfitted */\n",
       "  background-color: var(--sklearn-color-unfitted-level-2);\n",
       "}\n",
       "\n",
       "#sk-container-id-2 div.sk-estimator.fitted:hover {\n",
       "  /* fitted */\n",
       "  background-color: var(--sklearn-color-fitted-level-2);\n",
       "}\n",
       "\n",
       "/* Specification for estimator info (e.g. \"i\" and \"?\") */\n",
       "\n",
       "/* Common style for \"i\" and \"?\" */\n",
       "\n",
       ".sk-estimator-doc-link,\n",
       "a:link.sk-estimator-doc-link,\n",
       "a:visited.sk-estimator-doc-link {\n",
       "  float: right;\n",
       "  font-size: smaller;\n",
       "  line-height: 1em;\n",
       "  font-family: monospace;\n",
       "  background-color: var(--sklearn-color-background);\n",
       "  border-radius: 1em;\n",
       "  height: 1em;\n",
       "  width: 1em;\n",
       "  text-decoration: none !important;\n",
       "  margin-left: 0.5em;\n",
       "  text-align: center;\n",
       "  /* unfitted */\n",
       "  border: var(--sklearn-color-unfitted-level-1) 1pt solid;\n",
       "  color: var(--sklearn-color-unfitted-level-1);\n",
       "}\n",
       "\n",
       ".sk-estimator-doc-link.fitted,\n",
       "a:link.sk-estimator-doc-link.fitted,\n",
       "a:visited.sk-estimator-doc-link.fitted {\n",
       "  /* fitted */\n",
       "  border: var(--sklearn-color-fitted-level-1) 1pt solid;\n",
       "  color: var(--sklearn-color-fitted-level-1);\n",
       "}\n",
       "\n",
       "/* On hover */\n",
       "div.sk-estimator:hover .sk-estimator-doc-link:hover,\n",
       ".sk-estimator-doc-link:hover,\n",
       "div.sk-label-container:hover .sk-estimator-doc-link:hover,\n",
       ".sk-estimator-doc-link:hover {\n",
       "  /* unfitted */\n",
       "  background-color: var(--sklearn-color-unfitted-level-3);\n",
       "  color: var(--sklearn-color-background);\n",
       "  text-decoration: none;\n",
       "}\n",
       "\n",
       "div.sk-estimator.fitted:hover .sk-estimator-doc-link.fitted:hover,\n",
       ".sk-estimator-doc-link.fitted:hover,\n",
       "div.sk-label-container:hover .sk-estimator-doc-link.fitted:hover,\n",
       ".sk-estimator-doc-link.fitted:hover {\n",
       "  /* fitted */\n",
       "  background-color: var(--sklearn-color-fitted-level-3);\n",
       "  color: var(--sklearn-color-background);\n",
       "  text-decoration: none;\n",
       "}\n",
       "\n",
       "/* Span, style for the box shown on hovering the info icon */\n",
       ".sk-estimator-doc-link span {\n",
       "  display: none;\n",
       "  z-index: 9999;\n",
       "  position: relative;\n",
       "  font-weight: normal;\n",
       "  right: .2ex;\n",
       "  padding: .5ex;\n",
       "  margin: .5ex;\n",
       "  width: min-content;\n",
       "  min-width: 20ex;\n",
       "  max-width: 50ex;\n",
       "  color: var(--sklearn-color-text);\n",
       "  box-shadow: 2pt 2pt 4pt #999;\n",
       "  /* unfitted */\n",
       "  background: var(--sklearn-color-unfitted-level-0);\n",
       "  border: .5pt solid var(--sklearn-color-unfitted-level-3);\n",
       "}\n",
       "\n",
       ".sk-estimator-doc-link.fitted span {\n",
       "  /* fitted */\n",
       "  background: var(--sklearn-color-fitted-level-0);\n",
       "  border: var(--sklearn-color-fitted-level-3);\n",
       "}\n",
       "\n",
       ".sk-estimator-doc-link:hover span {\n",
       "  display: block;\n",
       "}\n",
       "\n",
       "/* \"?\"-specific style due to the `<a>` HTML tag */\n",
       "\n",
       "#sk-container-id-2 a.estimator_doc_link {\n",
       "  float: right;\n",
       "  font-size: 1rem;\n",
       "  line-height: 1em;\n",
       "  font-family: monospace;\n",
       "  background-color: var(--sklearn-color-background);\n",
       "  border-radius: 1rem;\n",
       "  height: 1rem;\n",
       "  width: 1rem;\n",
       "  text-decoration: none;\n",
       "  /* unfitted */\n",
       "  color: var(--sklearn-color-unfitted-level-1);\n",
       "  border: var(--sklearn-color-unfitted-level-1) 1pt solid;\n",
       "}\n",
       "\n",
       "#sk-container-id-2 a.estimator_doc_link.fitted {\n",
       "  /* fitted */\n",
       "  border: var(--sklearn-color-fitted-level-1) 1pt solid;\n",
       "  color: var(--sklearn-color-fitted-level-1);\n",
       "}\n",
       "\n",
       "/* On hover */\n",
       "#sk-container-id-2 a.estimator_doc_link:hover {\n",
       "  /* unfitted */\n",
       "  background-color: var(--sklearn-color-unfitted-level-3);\n",
       "  color: var(--sklearn-color-background);\n",
       "  text-decoration: none;\n",
       "}\n",
       "\n",
       "#sk-container-id-2 a.estimator_doc_link.fitted:hover {\n",
       "  /* fitted */\n",
       "  background-color: var(--sklearn-color-fitted-level-3);\n",
       "}\n",
       "</style><div id=\"sk-container-id-2\" class=\"sk-top-container\"><div class=\"sk-text-repr-fallback\"><pre>TabPFNClassifier()</pre><b>In a Jupyter environment, please rerun this cell to show the HTML representation or trust the notebook. <br />On GitHub, the HTML representation is unable to render, please try loading this page with nbviewer.org.</b></div><div class=\"sk-container\" hidden><div class=\"sk-item\"><div class=\"sk-estimator fitted sk-toggleable\"><input class=\"sk-toggleable__control sk-hidden--visually\" id=\"sk-estimator-id-2\" type=\"checkbox\" checked><label for=\"sk-estimator-id-2\" class=\"sk-toggleable__label fitted sk-toggleable__label-arrow\"><div><div>TabPFNClassifier</div></div><div><span class=\"sk-estimator-doc-link fitted\">i<span>Fitted</span></span></div></label><div class=\"sk-toggleable__content fitted\"><pre>TabPFNClassifier()</pre></div> </div></div></div></div>"
      ],
      "text/plain": [
       "TabPFNClassifier()"
      ]
     },
     "execution_count": 92,
     "metadata": {},
     "output_type": "execute_result"
    }
   ],
   "source": [
    "# load breast cancer dataset\n",
    "from sklearn.datasets import load_breast_cancer\n",
    "\n",
    "cancer = load_breast_cancer()\n",
    "X = cancer.data\n",
    "y = cancer.target\n",
    "\n",
    "# split into train and test\n",
    "from sklearn.model_selection import train_test_split\n",
    "\n",
    "X_train, X_test, y_train, y_test = train_test_split(X, y, test_size=0.2, random_state=42)\n",
    "\n",
    "model = TabPFNClassifier()\n",
    "\n",
    "model.fit(X_train, y_train)"
   ]
  },
  {
   "cell_type": "code",
   "execution_count": 2,
   "metadata": {},
   "outputs": [
    {
     "data": {
      "text/plain": [
       "torch.Size([5001])"
      ]
     },
     "execution_count": 2,
     "metadata": {},
     "output_type": "execute_result"
    }
   ],
   "source": [
    "model.bardist_.borders.shape"
   ]
  },
  {
   "cell_type": "code",
   "execution_count": 2,
   "metadata": {},
   "outputs": [],
   "source": [
    "from tabpfn import TabPFNRegressor, TabPFNClassifier"
   ]
  },
  {
   "cell_type": "code",
   "execution_count": 105,
   "metadata": {},
   "outputs": [
    {
     "data": {
      "text/plain": [
       "[<matplotlib.lines.Line2D at 0x349c41540>]"
      ]
     },
     "execution_count": 105,
     "metadata": {},
     "output_type": "execute_result"
    },
    {
     "data": {
      "image/png": "[encoded data removed]",
      "text/plain": [
       "<Figure size 640x480 with 1 Axes>"
      ]
     },
     "metadata": {},
     "output_type": "display_data"
    }
   ],
   "source": [
    "import matplotlib.pyplot as plt\n",
    "\n",
    "plt.plot(model.bardist_.borders)"
   ]
  },
  {
   "cell_type": "code",
   "execution_count": 111,
   "metadata": {},
   "outputs": [],
   "source": [
    "model = TabPFNRegressor()"
   ]
  },
  {
   "cell_type": "code",
   "execution_count": 112,
   "metadata": {},
   "outputs": [
    {
     "data": {
      "text/plain": [
       "{'n_estimators': 8,\n",
       " 'categorical_features_indices': None,\n",
       " 'softmax_temperature': 0.9,\n",
       " 'average_before_softmax': False,\n",
       " 'model_path': 'auto',\n",
       " 'device': 'auto',\n",
       " 'ignore_pretraining_limits': False,\n",
       " 'inference_precision': 'auto',\n",
       " 'fit_mode': 'fit_preprocessors',\n",
       " 'memory_saving_mode': 'auto',\n",
       " 'random_state': 0,\n",
       " 'n_jobs': -1,\n",
       " 'inference_config': None}"
      ]
     },
     "execution_count": 112,
     "metadata": {},
     "output_type": "execute_result"
    }
   ],
   "source": [
    "model.__dict__"
   ]
  },
  {
   "cell_type": "code",
   "execution_count": 110,
   "metadata": {},
   "outputs": [],
   "source": [
    "from tabpfn import TabPFNRegressor"
   ]
  },
  {
   "cell_type": "code",
   "execution_count": 109,
   "metadata": {},
   "outputs": [
    {
     "data": {
      "text/plain": [
       "tensor([-93.0867, -26.1321, -22.6323,  ...,  23.6954,  27.1553,  86.9426])"
      ]
     },
     "execution_count": 109,
     "metadata": {},
     "output_type": "execute_result"
    }
   ],
   "source": [
    "model.bardist_.borders"
   ]
  },
  {
   "cell_type": "code",
   "execution_count": 29,
   "metadata": {},
   "outputs": [
    {
     "name": "stdout",
     "output_type": "stream",
     "text": [
      "[[ 3.  5.  7. -1.]\n",
      " [ 1.  5. nan  2.]\n",
      " [ 1.  3.  6. nan]\n",
      " [nan  6.  1. -1.]\n",
      " [ 7. nan  5. nan]\n",
      " [ 2. nan  1.  7.]\n",
      " [-1. nan  3. nan]]\n",
      "[ 1.  3.  5.  7.  6. -1.  2.]\n",
      "[[ 7.  6.  3.  2.]\n",
      " [-1.  2.  5.  6.]]\n",
      "[nan nan]\n"
     ]
    }
   ],
   "source": [
    "import numpy as np\n",
    "\n",
    "def create_train_test_sets(X):\n",
    "    # Get missing indices in X\n",
    "    missing_indices = np.where(np.isnan(X))\n",
    "    \n",
    "    non_missing_indices = np.where(~np.isnan(X))\n",
    "    \n",
    "    train_X = np.zeros((len(non_missing_indices[0]), X.shape[0] + X.shape[1] - 2))\n",
    "    train_y = np.zeros(len(non_missing_indices[0]))\n",
    "    test_X = np.zeros((len(missing_indices[0]), X.shape[0] + X.shape[1] - 2))\n",
    "    test_y = np.zeros(len(missing_indices[0]))\n",
    "    \n",
    "    for k, (i,j) in enumerate(zip(non_missing_indices[0], non_missing_indices[1])):\n",
    "        # Get row without j-th column\n",
    "        row = np.delete(X[i,:], j)\n",
    "        # Get column without i-th row\n",
    "        col = np.delete(X[:,j], i)\n",
    "        \n",
    "        # Create train set\n",
    "        train_X[k,:] = np.concatenate((row, col))\n",
    "        train_y[k] = X[i,j]\n",
    "        \n",
    "    \n",
    "    for k, (i,j) in enumerate(zip(missing_indices[0], missing_indices[1])):\n",
    "        # Get row without j-th column\n",
    "        row = np.delete(X[i,:], j)\n",
    "        # Get column without i-th row\n",
    "        col = np.delete(X[:,j], i)\n",
    "        \n",
    "        # Create train set\n",
    "        test_X[k,:] = np.concatenate((row, col))\n",
    "        test_y[k] = np.nan\n",
    "        \n",
    "    return train_X, train_y, test_X, test_y\n",
    "    \n",
    "X = np.array([[1, 3, 5], [7, np.nan, 6], [-1, 2, np.nan]])\n",
    "train_X, train_y, test_X, test_y = create_train_test_sets(X)\n",
    "\n",
    "print(train_X)\n",
    "print(train_y)\n",
    "print(test_X)\n",
    "print(test_y)"
   ]
  },
  {
   "cell_type": "code",
   "execution_count": 19,
   "metadata": {},
   "outputs": [],
   "source": [
    "import torch"
   ]
  },
  {
   "cell_type": "code",
   "execution_count": 20,
   "metadata": {},
   "outputs": [],
   "source": [
    "X_tnsr = torch.from_numpy(X)"
   ]
  },
  {
   "cell_type": "code",
   "execution_count": 21,
   "metadata": {},
   "outputs": [
    {
     "data": {
      "text/plain": [
       "tensor([[ 1.,  3.,  5.],\n",
       "        [ 7., nan,  6.],\n",
       "        [-1.,  2., nan]], dtype=torch.float64)"
      ]
     },
     "execution_count": 21,
     "metadata": {},
     "output_type": "execute_result"
    }
   ],
   "source": []
  }
 ],
 "metadata": {
  "kernelspec": {
   "display_name": ".venv",
   "language": "python",
   "name": "python3"
  },
  "language_info": {
   "codemirror_mode": {
    "name": "ipython",
    "version": 3
   },
   "file_extension": ".py",
   "mimetype": "text/x-python",
   "name": "python",
   "nbconvert_exporter": "python",
   "pygments_lexer": "ipython3",
   "version": "3.10.4"
  }
 },
 "nbformat": 4,
 "nbformat_minor": 2
}
