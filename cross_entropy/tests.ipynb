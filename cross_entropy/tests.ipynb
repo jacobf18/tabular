{
 "cells": [
  {
   "cell_type": "code",
   "execution_count": 3,
   "id": "84700a0c",
   "metadata": {},
   "outputs": [],
   "source": [
    "import cross_entropy_method as cem\n",
    "import numpy as np"
   ]
  },
  {
   "cell_type": "code",
   "execution_count": 3,
   "id": "41951e4a",
   "metadata": {},
   "outputs": [],
   "source": [
    "from tabpfn import TabPFNClassifier  # Must use full TabPFN package\n",
    "from tabpfn_extensions.embedding import TabPFNEmbedding"
   ]
  },
  {
   "cell_type": "code",
   "execution_count": 4,
   "id": "f44ca060",
   "metadata": {},
   "outputs": [],
   "source": [
    "from sklearn.model_selection import train_test_split\n",
    "from sklearn.datasets import fetch_openml\n",
    "X, y = fetch_openml(name='kc1', version=1, as_frame=False, return_X_y=True)\n",
    "X_train, X_test, y_train, y_test = train_test_split(X, y, test_size=0.33, random_state=42)\n",
    "clf = TabPFNClassifier(n_estimators=1)"
   ]
  },
  {
   "cell_type": "code",
   "execution_count": 7,
   "id": "0971526a",
   "metadata": {},
   "outputs": [],
   "source": [
    "import os\n",
    "\n",
    "os.environ['TABPFN_ALLOW_CPU_LARGE_DATASET'] = '1'  # Allow large datasets on CPU"
   ]
  },
  {
   "cell_type": "code",
   "execution_count": null,
   "id": "11a0e456",
   "metadata": {},
   "outputs": [],
   "source": [
    "embedding_extractor = TabPFNEmbedding(tabpfn_clf=clf, n_fold=0)\n",
    "train_embeddings = embedding_extractor.get_embeddings(X_train, y_train, X_test, data_source=\"train\")\n",
    "test_embeddings = embedding_extractor.get_embeddings(X_train, y_train, X_test, data_source=\"test\")"
   ]
  },
  {
   "cell_type": "code",
   "execution_count": 14,
   "id": "f156ab7d",
   "metadata": {},
   "outputs": [
    {
     "data": {
      "text/plain": [
       "(1413, 21)"
      ]
     },
     "execution_count": 14,
     "metadata": {},
     "output_type": "execute_result"
    }
   ],
   "source": [
    "X_train.shape"
   ]
  },
  {
   "cell_type": "code",
   "execution_count": 10,
   "id": "5dfb107f",
   "metadata": {},
   "outputs": [
    {
     "data": {
      "text/plain": [
       "(1, 1413, 192)"
      ]
     },
     "execution_count": 10,
     "metadata": {},
     "output_type": "execute_result"
    }
   ],
   "source": [
    "train_embeddings.shape"
   ]
  },
  {
   "cell_type": "code",
   "execution_count": 11,
   "id": "e5267fe9",
   "metadata": {},
   "outputs": [
    {
     "data": {
      "text/plain": [
       "(1, 696, 192)"
      ]
     },
     "execution_count": 11,
     "metadata": {},
     "output_type": "execute_result"
    }
   ],
   "source": [
    "test_embeddings.shape"
   ]
  }
 ],
 "metadata": {
  "kernelspec": {
   "display_name": ".venv",
   "language": "python",
   "name": "python3"
  },
  "language_info": {
   "codemirror_mode": {
    "name": "ipython",
    "version": 3
   },
   "file_extension": ".py",
   "mimetype": "text/x-python",
   "name": "python",
   "nbconvert_exporter": "python",
   "pygments_lexer": "ipython3",
   "version": "3.10.4"
  }
 },
 "nbformat": 4,
 "nbformat_minor": 5
}
